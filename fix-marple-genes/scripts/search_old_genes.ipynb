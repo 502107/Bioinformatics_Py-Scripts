{
 "cells": [
  {
   "cell_type": "code",
   "execution_count": 1,
   "metadata": {},
   "outputs": [
    {
     "name": "stderr",
     "output_type": "stream",
     "text": [
      "/Users/vof23jop/micromamba/lib/python3.12/site-packages/Bio/Application/__init__.py:40: BiopythonDeprecationWarning: The Bio.Application modules and modules relying on it have been deprecated.\n",
      "\n",
      "Due to the on going maintenance burden of keeping command line application\n",
      "wrappers up to date, we have decided to deprecate and eventually remove these\n",
      "modules.\n",
      "\n",
      "We instead now recommend building your command line and invoking it directly\n",
      "with the subprocess module.\n",
      "  warnings.warn(\n"
     ]
    }
   ],
   "source": [
    "import pandas as pd\n",
    "import os\n",
    "import csv\n",
    "import gffutils\n",
    "import tempfile\n",
    "from tqdm import tqdm\n",
    "from Bio import SeqIO\n",
    "from Bio.Blast.Applications import NcbiblastnCommandline"
   ]
  },
  {
   "cell_type": "code",
   "execution_count": 2,
   "metadata": {},
   "outputs": [],
   "source": [
    "old_ref_fna = '../REF/old_reference_marple_genes/pst-130_388_genes.fasta'\n",
    "old_ref_gff = '../REF/old_reference_marple_genes/pst-130_388_genes_as_positive_strand_landmarks.gff3'\n",
    "new_ref_fna = '../REF/new_reference_all_genes/pst104e.fasta'\n",
    "new_ref_gff = '../REF/new_reference_all_genes/pst104e.gff3'"
   ]
  },
  {
   "cell_type": "code",
   "execution_count": 3,
   "metadata": {},
   "outputs": [],
   "source": [
    "old_genes = {}\n",
    "for record in SeqIO.parse(old_ref_fna, 'fasta'):\n",
    "    old_genes[record.id] = record.seq"
   ]
  },
  {
   "cell_type": "code",
   "execution_count": 4,
   "metadata": {},
   "outputs": [],
   "source": [
    "def blast_match_genes(query_dict,ref_fna,ref_gff):\n",
    "    db_path = os.path.splitext(ref_gff)[0] + '.db'\n",
    "    if not os.path.exists(db_path):\n",
    "        gffutils.create_db(ref_gff, db_path, merge_strategy='create_unique')\n",
    "    db = gffutils.FeatureDB(db_path)\n",
    "\n",
    "    sseqid_dict = {}\n",
    "    \n",
    "    for query_id, query_seq in tqdm(query_dict.items()):\n",
    "        temp_dir = tempfile.gettempdir()\n",
    "        query_temp = os.path.join(temp_dir, f\"query_{query_id}.fasta\")\n",
    "        \n",
    "        with open(query_temp, 'w') as f:\n",
    "            f.write(f'>{query_id}\\n{query_seq}\\n')\n",
    "        \n",
    "        blastn_cline = NcbiblastnCommandline(query=query_temp, subject=ref_fna, outfmt=6)\n",
    "        stdout, stderr = blastn_cline()\n",
    "        \n",
    "        # Parse the blast output\n",
    "        for line in stdout.splitlines():\n",
    "            line = line.split('\\t')\n",
    "            pident = float(line[2])\n",
    "            if pident < 97:\n",
    "                continue\n",
    "            sseqid = line[1]\n",
    "            sstart = int(line[8])\n",
    "            send = int(line[9])\n",
    "            old_gene_length = len(query_seq)\n",
    "            if query_id not in sseqid_dict:\n",
    "                sseqid_dict[query_id] = []\n",
    "\n",
    "            # Get the new gene ID from the gff db\n",
    "            for gene in db.region(region=(sseqid, sstart, send), featuretype='gene'):\n",
    "                gene_id = gene.attributes['ID'][0]\n",
    "                gene_length = gene.end - gene.start\n",
    "                if gene_length < 1000:\n",
    "                    continue\n",
    "                pct_gene_len = old_gene_length / gene_length\n",
    "                if pct_gene_len < 0.9 or pct_gene_len > 1.1:\n",
    "                    continue\n",
    "                entry = (gene_id, pident, old_gene_length, gene_length, pct_gene_len)\n",
    "                sseqid_dict[query_id].append(entry)\n",
    "                \n",
    "        os.remove(query_temp)\n",
    "    \n",
    "    with open('../part3/old-to-new-genes.csv', 'w', newline='') as f:\n",
    "        writer = csv.writer(f)\n",
    "        writer.writerow(['Old_GeneID', 'New_GeneID', 'PctIdentity', 'Old_GeneLen', 'New_GeneLen', 'PctGeneLen'])\n",
    "        for query_id, gene_info in sseqid_dict.items():\n",
    "            for gene_id, pident, old_gene_length, gene_length, pct_gene_len in gene_info:\n",
    "                writer.writerow([query_id, gene_id, pident, old_gene_length, gene_length, pct_gene_len])\n",
    "    \n",
    "    return sseqid_dict"
   ]
  },
  {
   "cell_type": "code",
   "execution_count": 5,
   "metadata": {},
   "outputs": [
    {
     "name": "stderr",
     "output_type": "stream",
     "text": [
      "100%|██████████| 388/388 [20:10<00:00,  3.12s/it]\n"
     ]
    }
   ],
   "source": [
    "sseqid_dict = blast_match_genes(old_genes, new_ref_fna, new_ref_gff)"
   ]
  },
  {
   "cell_type": "code",
   "execution_count": 6,
   "metadata": {},
   "outputs": [],
   "source": [
    "# Check which genes we have\n",
    "new_list_of_genes = pd.read_csv('../part1/updated_primers_new-code.csv')['GeneID'].unique()\n",
    "\n",
    "with open('../part3/primers-for-old-to-new-genes.csv', 'w', newline='') as f:\n",
    "    print('Old_GeneID,New_GeneID,PrimersDesigned', file=f)\n",
    "    for query_id, gene_info in sseqid_dict.items():\n",
    "        for gene_id, pident, old_gene_length, gene_length, pct_gene_len in gene_info:\n",
    "            if gene_id in new_list_of_genes:\n",
    "                print(f'{query_id},{gene_id},YES', file=f)\n",
    "            else:\n",
    "                print(f'{query_id},{gene_id},NO', file=f)\n"
   ]
  }
 ],
 "metadata": {
  "kernelspec": {
   "display_name": "base",
   "language": "python",
   "name": "python3"
  },
  "language_info": {
   "codemirror_mode": {
    "name": "ipython",
    "version": 3
   },
   "file_extension": ".py",
   "mimetype": "text/x-python",
   "name": "python",
   "nbconvert_exporter": "python",
   "pygments_lexer": "ipython3",
   "version": "3.12.2"
  }
 },
 "nbformat": 4,
 "nbformat_minor": 2
}
