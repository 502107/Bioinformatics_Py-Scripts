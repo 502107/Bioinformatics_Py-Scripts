{
 "cells": [
  {
   "cell_type": "markdown",
   "metadata": {},
   "source": [
    "# Update isolate metadata"
   ]
  },
  {
   "cell_type": "code",
   "execution_count": 1,
   "metadata": {},
   "outputs": [],
   "source": [
    "import os\n",
    "import csv"
   ]
  },
  {
   "cell_type": "code",
   "execution_count": 2,
   "metadata": {},
   "outputs": [],
   "source": [
    "current = '../part2/marple_isolates_pst.csv'\n",
    "previous = '../part2/old-pst_sample_metadata.xlsx' # from marple/resources/pst/pst_sample_metadata.xlsx"
   ]
  },
  {
   "cell_type": "code",
   "execution_count": 3,
   "metadata": {},
   "outputs": [],
   "source": [
    "isolates = {}\n",
    "with open(current, 'r') as f:\n",
    "    reader = csv.reader(f)\n",
    "    for row in reader:\n",
    "        try:\n",
    "            isolates[row[0]] = row[1]\n",
    "            # print(row[0])\n",
    "        except:\n",
    "            continue"
   ]
  },
  {
   "cell_type": "code",
   "execution_count": 4,
   "metadata": {},
   "outputs": [],
   "source": [
    "import csv\n",
    "import pandas as pd\n",
    "\n",
    "df = pd.read_excel(previous)\n",
    "\n",
    "found = []\n",
    "\n",
    "for tree_name,accession in isolates.items():\n",
    "    mask = df['tree_new_name'] == tree_name\n",
    "    if mask.any():\n",
    "        df.loc[mask, 'tree_name'] = accession\n",
    "        found.append(tree_name)\n",
    "    else:\n",
    "        print(f'{tree_name} not found')\n",
    "\n",
    "df = df[df['tree_new_name'].isin(found)]\n",
    "df.to_csv('../part2/marple_isolates_pst_new.csv', index=False)"
   ]
  },
  {
   "cell_type": "markdown",
   "metadata": {},
   "source": [
    "# Update primer metadata"
   ]
  },
  {
   "cell_type": "code",
   "execution_count": 5,
   "metadata": {},
   "outputs": [],
   "source": [
    "import csv"
   ]
  },
  {
   "cell_type": "code",
   "execution_count": 8,
   "metadata": {},
   "outputs": [],
   "source": [
    "new_primers = '../part1/updated_primers_new-code.csv'\n",
    "new_primer_metadata = '../pst_primer_metadata.csv'"
   ]
  },
  {
   "cell_type": "code",
   "execution_count": 9,
   "metadata": {},
   "outputs": [],
   "source": [
    "import math\n",
    "\n",
    "headers = ['amplicon', 'pool', 'forward', 'reverse', 'volume', 'well', 'gene', 'start', 'end', 'gene_length', 'amplicon_length', 'amplicon_pct', 'plate', 'row', 'col']\n",
    "\n",
    "primers = []\n",
    "\n",
    "with open(new_primers, 'r') as f:\n",
    "    reader = csv.reader(f)\n",
    "    next(reader)\n",
    "    for row in reader:\n",
    "        gene_start = math.floor(float(row[3]))\n",
    "        gene_end = math.floor(float(row[4]))\n",
    "        gene_length = math.floor(float(row[5]))\n",
    "        if gene_start < 1000:\n",
    "            gene_start = 1\n",
    "        elif gene_start > 1000:\n",
    "            gene_start = gene_start - 1000\n",
    "        if gene_end > gene_length:\n",
    "            gene_end = gene_length\n",
    "        amplicon_length = gene_end - gene_start + 1\n",
    "        amplicon_pct = amplicon_length*100/gene_length\n",
    "        \n",
    "        primer = {\n",
    "            'amplicon': row[0],\n",
    "            'forward': row[1],\n",
    "            'reverse': row[2],\n",
    "            'start': gene_start,\n",
    "            'end': gene_end,\n",
    "            'gene_length': gene_length,\n",
    "            'amplicon_length': amplicon_length,\n",
    "            'amplicon_pct': amplicon_pct,\n",
    "            'plate': '1',\n",
    "            'row': 'A',\n",
    "            'col': '1',\n",
    "            'pool': 'A',\n",
    "            'volume': '1',\n",
    "            'well': 'UNK',\n",
    "            'gene': row[0]\n",
    "        }\n",
    "        primers.append(primer)\n",
    "\n",
    "with open(new_primer_metadata, 'w') as f:\n",
    "    writer = csv.writer(f)\n",
    "    writer.writerow(headers)\n",
    "    for primer in primers:\n",
    "        writer.writerow(primer[i] for i in headers)"
   ]
  }
 ],
 "metadata": {
  "kernelspec": {
   "display_name": "base",
   "language": "python",
   "name": "python3"
  },
  "language_info": {
   "codemirror_mode": {
    "name": "ipython",
    "version": 3
   },
   "file_extension": ".py",
   "mimetype": "text/x-python",
   "name": "python",
   "nbconvert_exporter": "python",
   "pygments_lexer": "ipython3",
   "version": "3.12.2"
  }
 },
 "nbformat": 4,
 "nbformat_minor": 2
}
