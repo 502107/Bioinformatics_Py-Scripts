{
 "cells": [
  {
   "cell_type": "code",
   "execution_count": 1,
   "metadata": {},
   "outputs": [],
   "source": [
    "import pandas as pd\n",
    "import matplotlib.pyplot as plt"
   ]
  },
  {
   "cell_type": "code",
   "execution_count": 2,
   "metadata": {},
   "outputs": [
    {
     "name": "stderr",
     "output_type": "stream",
     "text": [
      "/var/folders/fc/_yzh77ts62g6bd_2c_tpfty4000g63/T/ipykernel_30519/2024007160.py:29: UserWarning: FigureCanvasSVG is non-interactive, and thus cannot be shown\n",
      "  plt.show()\n"
     ]
    }
   ],
   "source": [
    "import matplotlib.pyplot as plt\n",
    "from upsetplot import UpSet\n",
    "import pandas as pd\n",
    "import matplotlib as mpl\n",
    "mpl.use('svg')\n",
    "\n",
    "df = pd.read_csv('mock_data.csv')\n",
    "\n",
    "genes = {col: df[col].dropna().tolist() for col in df.columns}\n",
    "\n",
    "all_genes = set.union(*map(set, genes.values()))\n",
    "all_genes_list = list(all_genes)\n",
    "\n",
    "upset_data = pd.DataFrame(\n",
    "    {key: [gene in gene_list for gene in all_genes_list] for key, gene_list in genes.items()},\n",
    "    index=all_genes_list\n",
    ")\n",
    "\n",
    "upset_data = upset_data.groupby(list(upset_data.columns)).size()\n",
    "\n",
    "upset = UpSet(upset_data, show_counts=True, sort_by='cardinality', facecolor=\"steelblue\",\n",
    "              shading_color=0.1, other_dots_color=0.15, min_degree=1)\n",
    "\n",
    "upset.style_subsets(min_degree=1, facecolor='lightblue')\n",
    "upset.style_subsets(min_degree=2, facecolor='darkseagreen')\n",
    "upset.style_subsets(min_degree=3, facecolor='darkcyan')\n",
    "\n",
    "upset.plot()\n",
    "plt.show()\n",
    "new_rc_params = {'text.usetex': False,\n",
    "\"svg.fonttype\": 'none'\n",
    "}\n",
    "mpl.rcParams.update(new_rc_params)\n",
    "plt.savefig('upsetplot.svg')"
   ]
  }
 ],
 "metadata": {
  "kernelspec": {
   "display_name": "Python 3",
   "language": "python",
   "name": "python3"
  },
  "language_info": {
   "codemirror_mode": {
    "name": "ipython",
    "version": 3
   },
   "file_extension": ".py",
   "mimetype": "text/x-python",
   "name": "python",
   "nbconvert_exporter": "python",
   "pygments_lexer": "ipython3",
   "version": "3.12.0"
  }
 },
 "nbformat": 4,
 "nbformat_minor": 2
}
