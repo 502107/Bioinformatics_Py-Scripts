{
 "cells": [
  {
   "cell_type": "code",
   "execution_count": 15,
   "metadata": {},
   "outputs": [],
   "source": [
    "import os\n",
    "import subprocess\n",
    "from tqdm import tqdm\n",
    "from Bio import SeqIO\n",
    "from io import StringIO\n",
    "from Bio.Align.Applications import MafftCommandline"
   ]
  },
  {
   "cell_type": "code",
   "execution_count": 3,
   "metadata": {},
   "outputs": [],
   "source": [
    "wd = '/Volumes/Diane-Saunders/loizos/Pber/assemble_Pb01_genome/14_wolbachia/2-phylo'\n",
    "consensus = 'all_Pber_wolb_cons.fna'\n",
    "pre_comb = '../1-extract_contigs/consensus'"
   ]
  },
  {
   "cell_type": "code",
   "execution_count": 4,
   "metadata": {},
   "outputs": [
    {
     "name": "stdout",
     "output_type": "stream",
     "text": [
      "Pb01 1455753\n",
      "Pb02 1455752\n",
      "Pb03 1455915\n",
      "Pb04 1455899\n",
      "Pb06 1455762\n",
      "Pb07 1455760\n",
      "Pb08 1455905\n",
      "Pb09 1455911\n",
      "Pb10 1455802\n"
     ]
    }
   ],
   "source": [
    "with open(os.path.join(wd,consensus), 'r') as f:\n",
    "    for record in SeqIO.parse(f, 'fasta'):\n",
    "        print(record.id, len(record.seq))"
   ]
  },
  {
   "cell_type": "code",
   "execution_count": null,
   "metadata": {},
   "outputs": [],
   "source": [
    "seq_dict = {}\n",
    "for file in os.listdir(os.path.join(wd,pre_comb)):\n",
    "    sample = file.split('_')[0]\n",
    "    with open(os.path.join(wd,pre_comb,file), 'r') as f:\n",
    "        for record in SeqIO.parse(f, 'fasta'):\n",
    "            if sample not in seq_dict:\n",
    "                seq_dict[sample] = {}\n",
    "            seq_dict[sample][record.id] = record.seq"
   ]
  },
  {
   "cell_type": "code",
   "execution_count": 19,
   "metadata": {},
   "outputs": [],
   "source": [
    "contig_dict = {}\n",
    "for sample, contigs in seq_dict.items():\n",
    "    for contig_id, seq in contigs.items():\n",
    "        if contig_id not in contig_dict:\n",
    "            contig_dict[contig_id] = {}\n",
    "        contig_dict[contig_id][sample] = seq"
   ]
  },
  {
   "cell_type": "code",
   "execution_count": 20,
   "metadata": {},
   "outputs": [
    {
     "name": "stderr",
     "output_type": "stream",
     "text": [
      "  0%|          | 0/5 [00:00<?, ?it/s]"
     ]
    },
    {
     "name": "stdout",
     "output_type": "stream",
     "text": [
      "Aligning contig_10393_pilon...\n"
     ]
    },
    {
     "name": "stderr",
     "output_type": "stream",
     "text": [
      " 20%|██        | 1/5 [04:23<17:35, 263.89s/it]"
     ]
    },
    {
     "name": "stdout",
     "output_type": "stream",
     "text": [
      "Finished aligning contig_10393_pilon\n",
      "Aligning contig_6635_pilon...\n"
     ]
    },
    {
     "name": "stderr",
     "output_type": "stream",
     "text": [
      " 40%|████      | 2/5 [04:38<05:52, 117.38s/it]"
     ]
    },
    {
     "name": "stdout",
     "output_type": "stream",
     "text": [
      "Finished aligning contig_6635_pilon\n",
      "Aligning contig_6636_pilon...\n"
     ]
    },
    {
     "name": "stderr",
     "output_type": "stream",
     "text": [
      " 60%|██████    | 3/5 [04:58<02:25, 72.97s/it] "
     ]
    },
    {
     "name": "stdout",
     "output_type": "stream",
     "text": [
      "Finished aligning contig_6636_pilon\n",
      "Aligning contig_6637_pilon...\n"
     ]
    },
    {
     "name": "stderr",
     "output_type": "stream",
     "text": [
      " 80%|████████  | 4/5 [12:08<03:33, 213.62s/it]"
     ]
    },
    {
     "name": "stdout",
     "output_type": "stream",
     "text": [
      "Finished aligning contig_6637_pilon\n",
      "Aligning contig_6638_pilon...\n"
     ]
    },
    {
     "name": "stderr",
     "output_type": "stream",
     "text": [
      "100%|██████████| 5/5 [12:08<00:00, 145.69s/it]"
     ]
    },
    {
     "name": "stdout",
     "output_type": "stream",
     "text": [
      "Finished aligning contig_6638_pilon\n"
     ]
    },
    {
     "name": "stderr",
     "output_type": "stream",
     "text": [
      "\n"
     ]
    }
   ],
   "source": [
    "for contig_id, samples in tqdm(contig_dict.items()):\n",
    "    lengths = [len(seq) for seq in samples.values()]\n",
    "    if len(set(lengths)) > 1:  # If there are different lengths\n",
    "        # Write sequences to a temporary file for alignment\n",
    "        with open(f\"{contig_id}_temp.fasta\", 'w') as temp_fasta:\n",
    "            for sample, seq in samples.items():\n",
    "                temp_fasta.write(f\">{sample}\\n{seq}\\n\")\n",
    "        \n",
    "        print(f\"Aligning {contig_id}...\")\n",
    "        # Align sequences using MAFFT\n",
    "        mafft_cline = MafftCommandline(input=f\"{contig_id}_temp.fasta\")\n",
    "        stdout, stderr = mafft_cline()\n",
    "        \n",
    "        print(f\"Finished aligning {contig_id}\")\n",
    "        \n",
    "        # Parse the aligned sequences\n",
    "        aligned_sequences = SeqIO.parse(StringIO(stdout), 'fasta')\n",
    "        \n",
    "        # Replace original sequences with aligned sequences\n",
    "        for aligned_record in aligned_sequences:\n",
    "            seq_dict[aligned_record.id][contig_id] = aligned_record.seq\n",
    "        \n",
    "        # Clean up temporary file\n",
    "        os.remove(f\"{contig_id}_temp.fasta\")"
   ]
  },
  {
   "cell_type": "code",
   "execution_count": null,
   "metadata": {},
   "outputs": [],
   "source": [
    "with open(os.path.join(wd,'correctly_aligned_sequences.fna'), 'w') as output1, open(os.path.join(wd,'separated_aligned_sequences.fna'), 'w') as output2:\n",
    "    for sample, contigs in seq_dict.items():\n",
    "        output1.write(f\">{sample}\\n\")\n",
    "        for contig_id, seq in contigs.items():\n",
    "            output1.write(f\"{seq}\")\n",
    "            output2.write(f\">{sample}_{contig_id}\\n{seq}\\n\")\n",
    "        output1.write(\"\\n\")"
   ]
  }
 ],
 "metadata": {
  "kernelspec": {
   "display_name": "Python 3",
   "language": "python",
   "name": "python3"
  },
  "language_info": {
   "codemirror_mode": {
    "name": "ipython",
    "version": 3
   },
   "file_extension": ".py",
   "mimetype": "text/x-python",
   "name": "python",
   "nbconvert_exporter": "python",
   "pygments_lexer": "ipython3",
   "version": "3.12.0"
  }
 },
 "nbformat": 4,
 "nbformat_minor": 2
}
