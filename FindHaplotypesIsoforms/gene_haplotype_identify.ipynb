{
 "cells": [
  {
   "cell_type": "code",
   "execution_count": 59,
   "metadata": {},
   "outputs": [],
   "source": [
    "import re\n",
    "import os\n",
    "import tempfile\n",
    "from tqdm import tqdm\n",
    "from collections import defaultdict\n",
    "import Bio\n",
    "from Bio import SeqIO\n",
    "from Bio.Seq import Seq\n",
    "from Bio.Align.Applications import MafftCommandline\n",
    "from pymsaviz import MsaViz"
   ]
  },
  {
   "cell_type": "code",
   "execution_count": 5,
   "metadata": {},
   "outputs": [],
   "source": [
    "cwd='/Volumes/Diane-Saunders/main/MARPLE/PST/consensus'"
   ]
  },
  {
   "cell_type": "code",
   "execution_count": 6,
   "metadata": {},
   "outputs": [
    {
     "name": "stderr",
     "output_type": "stream",
     "text": [
      "100%|██████████| 434/434 [20:43<00:00,  2.86s/it]  \n"
     ]
    }
   ],
   "source": [
    "seq_dict = {}\n",
    "for file in tqdm(os.listdir(cwd)):\n",
    "    with open(os.path.join(cwd,file), 'r') as f:\n",
    "        for line in f:\n",
    "            if 'jgi.p|Pucstr1|474\\n' in line:\n",
    "                isol=file.split('_')[-4]\n",
    "                seq_dict[isol]=next(f).strip()\n",
    "                break"
   ]
  },
  {
   "cell_type": "code",
   "execution_count": 63,
   "metadata": {},
   "outputs": [
    {
     "name": "stderr",
     "output_type": "stream",
     "text": [
      "100%|██████████| 434/434 [00:00<00:00, 828174.68it/s]\n"
     ]
    }
   ],
   "source": [
    "uniq_seqs = {}\n",
    "seq_counts = defaultdict(int)\n",
    "count = 0\n",
    "\n",
    "for isol, seq in tqdm(seq_dict.items()):\n",
    "    if seq not in uniq_seqs.values():\n",
    "        count += 1\n",
    "        uniq_seqs[f'H{count}'] = seq\n",
    "    seq_counts[seq] += 1\n",
    "\n",
    "for seq, count in seq_counts.items():\n",
    "    for hap, seq2 in uniq_seqs.items():\n",
    "        if seq == seq2:\n",
    "            uniq_seqs[hap] = seq, count\n"
   ]
  },
  {
   "cell_type": "code",
   "execution_count": 99,
   "metadata": {},
   "outputs": [
    {
     "name": "stdout",
     "output_type": "stream",
     "text": [
      ">H01(282)\n",
      "ATGAAGACTTCAATCCAGTTGGTTATTGTCATCGGCACACTCATCACAGCTTGTGCAGGATTGATTTCAACCATCACACATGAGAACATCGAATATAATATCGTCAACGCACTAACCGACCTTCATGGGGTCGATGGTCCACTCCATAATTTTGTCTCCGATAATGCAGTTCGAATTGGACACACCAATATTGCAAATGATTCACCCAGAAAGGTCGGCTTCTACACCAACTTGCCTGGAAGCACATATGTATTGTGGTTAGATCCCGGGGAAAAAGGTACTCTACATTTCAACAAGGATTATCCCTGGGTATTGGCGTCTGGAGAGCCTCGAGCCAATTTAAACAAGGAGATATACGAGATCCTTGTACCCCAGGTAATCAACATGAACGAGGACGTTTTGGGCATAATGACTTTTCTTCGCTCTTTGCGAGATTAA\n",
      ">H02(6)\n",
      "ATGAAGACTTCAATCCAGTTGGTTATTGTCATCGGCACACTCATCACAGCTTGTGCAGGATTGATTTCAACCATCACACATGAGAACATCGAATATAATATCGTCAACGCACTAACCGACCTTCATGGGGTCGATGGTCCACTCCATAATTTTGTCTCCGATAATGCAGTTCGAATTRGACACACCAATATTGCAAATGATTCACCCAGAAAGGTCGGCTTCTACACCAACTTGCCTGGAAGCACATATGTATTGTGGTTAGATCCCGGGGAAAAAGGTACTCTACATTTCAACAAGGATTATCCCTGGGTATTGGCGTCTGGAGAGCCTCGAGCCAATTTAAACAAGGAGATATACGAGATCCTTGTACCCCAGGTAATCAACATGAACGAGGACGTTTTGGGCATAATGACTTTTCTTCGCTCTTTGCGAGATTAA\n",
      ">H03(3)\n",
      "ATGAAGACTTCAATCCAGTTGGTTATTGTCATCGGCACACTCATCACAGCTTGTGCAGGATTGATTTCAACCATCACACATGAGAACATCGAATATAATATCGTCAACGCACTAACCGACCTTCATGGGGTCGATGGTCCACTCCATAATTTTGTCTCCGATAATGCAGTTCGAATTAGACACACCAATATTGCAAATGATTCACCCAGAAAGGTCGGCTTCTACACCAACTTGCCTGGAAGCACATATGTATTGTGGTTAGATCCCGGGGAAAAAGGTACTCTACATTTCAACAAGGATTATCCCTGGGTATTGGCGTCTGGAGAGCCTCGAGCCAATTTAAACAAGGAGATATACGAGATCCTTGTACCCCAGGTAATCAACATGAACGAGGACGTTTTGGGCATAATGACTTTTCTTCGCTCTTTGCGAGATTAA\n",
      ">H04(1)\n",
      "ATGAAGACTTCAATCCAGTTGGTTATTGTCATCGGCACACTCATCACAGCTTGTGCAGGATTGATTTCAACCATCACACATGAGAACATCGAATATAATATCGTCAACGCACTAACCGACCTTCATGGGGTCGATGGTCCACTCCATAATTTTGTCTCCGATAATGYAGTTCGAATTGGACACACCAATATTGCAAATGATTCACCCAGAAAGGTCGGCTTCTACACCAACTTGCCTGGAAGCACATATGTATTGTGGTTAGATCCCGGGGAAAAAGGTACTCTACATTTCAACAAGGATTATCCCTGGGTATTGGCGTCTGGAGAGCCTCGAGCCAATTTAAACAAGGAGATATACGAGATCCTTGTACCCCAGGTAATCAACATGAACGAGGACGTTTTGGGCATAATGACTTTTCTTCGCTCTTTGCGAGATTAA\n"
     ]
    }
   ],
   "source": [
    "haps = {}\n",
    "new_index = 0\n",
    "\n",
    "if os.path.exists('haplotypes.fna'):\n",
    "    os.remove('haplotypes.fna')\n",
    "\n",
    "for hap,(seq,count) in uniq_seqs.items():\n",
    "    amb=seq.count('?')\n",
    "    cov=(len(seq)-amb)/len(seq)\n",
    "    if cov < 1:\n",
    "        continue\n",
    "    new_index+=1\n",
    "    print(f'>H0{new_index}({count})\\n{seq}')\n",
    "    haps[f'H0{new_index}']=seq\n",
    "    with open('haplotypes.fna', 'a') as f:\n",
    "        f.write(f'>H0{new_index}({count})\\n{seq}\\n')"
   ]
  },
  {
   "cell_type": "code",
   "execution_count": 93,
   "metadata": {},
   "outputs": [
    {
     "name": "stdout",
     "output_type": "stream",
     "text": [
      "I01\tMKTSIQLVIVIGTLITACAGLISTITHENIEYNIVNALTDLHGVDGPLHNFVSDNAVRIGHTNIANDSPRKVGFYTNLPGSTYVLWLDPGEKGTLHFNKDYPWVLASGEPRANLNKEIYEILVPQVINMNEDVLGIMTFLRSLRD*\n",
      "I02\tMKTSIQLVIVIGTLITACAGLISTITHENIEYNIVNALTDLHGVDGPLHNFVSDNAVRIXHTNIANDSPRKVGFYTNLPGSTYVLWLDPGEKGTLHFNKDYPWVLASGEPRANLNKEIYEILVPQVINMNEDVLGIMTFLRSLRD*\n",
      "I03\tMKTSIQLVIVIGTLITACAGLISTITHENIEYNIVNALTDLHGVDGPLHNFVSDNAVRIRHTNIANDSPRKVGFYTNLPGSTYVLWLDPGEKGTLHFNKDYPWVLASGEPRANLNKEIYEILVPQVINMNEDVLGIMTFLRSLRD*\n",
      "I04\tMKTSIQLVIVIGTLITACAGLISTITHENIEYNIVNALTDLHGVDGPLHNFVSDNXVRIGHTNIANDSPRKVGFYTNLPGSTYVLWLDPGEKGTLHFNKDYPWVLASGEPRANLNKEIYEILVPQVINMNEDVLGIMTFLRSLRD*\n"
     ]
    }
   ],
   "source": [
    "isof = {}\n",
    "isof_count = 0\n",
    "\n",
    "if os.path.exists('isoforms.fna'):\n",
    "    os.remove('isoforms.fna')\n",
    "\n",
    "for hap,seq in haps.items():\n",
    "    aa=Seq(seq).translate()\n",
    "    if aa not in isof.values():\n",
    "        isof_count+=1\n",
    "        print(f'I0{isof_count}\\t{aa}')\n",
    "        isof[f'I0{isof_count}']=aa\n",
    "        with open('isoforms.fna', 'a') as f:\n",
    "            f.write(f'>I0{isof_count}\\n{aa}\\n')"
   ]
  },
  {
   "cell_type": "code",
   "execution_count": 101,
   "metadata": {},
   "outputs": [],
   "source": [
    "from shutil import copyfile\n",
    "\n",
    "def align_seqs(sampleid, sample_dict, both=True):\n",
    "    with tempfile.NamedTemporaryFile(mode=\"w+\", delete=False) as temp_input:\n",
    "        for sample,qseq in sample_dict.items():\n",
    "            temp_input.write(f\">{sample}\\n{qseq}\\n\")\n",
    "            temp_input.flush()\n",
    "\n",
    "        temp_output_name = temp_input.name + \".aln\"\n",
    "        mafft_cline = MafftCommandline(input=temp_input.name)\n",
    "        stdout, stderr = mafft_cline()\n",
    "        # print(stdout.upper())\n",
    "        with open(temp_output_name, \"w\") as temp_output:\n",
    "            temp_output.write(stdout.upper())\n",
    "\n",
    "\n",
    "    copyfile(temp_output_name, f\"{sampleid}.aln\")\n",
    "    mv = MsaViz(temp_output_name, show_count=True)\n",
    "    mv.savefig(f\"{sampleid}.png\")\n",
    "    \n",
    "    sequences = {record.id: str(record.seq) for record in SeqIO.parse(temp_output_name, 'fasta')}\n"
   ]
  },
  {
   "cell_type": "code",
   "execution_count": 102,
   "metadata": {},
   "outputs": [],
   "source": [
    "align_seqs('haplotypes', haps)"
   ]
  }
 ],
 "metadata": {
  "kernelspec": {
   "display_name": "Python 3",
   "language": "python",
   "name": "python3"
  },
  "language_info": {
   "codemirror_mode": {
    "name": "ipython",
    "version": 3
   },
   "file_extension": ".py",
   "mimetype": "text/x-python",
   "name": "python",
   "nbconvert_exporter": "python",
   "pygments_lexer": "ipython3",
   "version": "3.12.0"
  }
 },
 "nbformat": 4,
 "nbformat_minor": 2
}
