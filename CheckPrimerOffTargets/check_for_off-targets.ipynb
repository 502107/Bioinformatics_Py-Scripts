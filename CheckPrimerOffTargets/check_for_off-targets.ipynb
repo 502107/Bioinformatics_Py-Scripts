{
 "cells": [
  {
   "cell_type": "code",
   "execution_count": 1,
   "id": "e8e1b10e",
   "metadata": {},
   "outputs": [],
   "source": [
    "from tqdm import tqdm\n",
    "from Bio import SeqIO\n",
    "from Bio.Seq import Seq"
   ]
  },
  {
   "cell_type": "code",
   "execution_count": 2,
   "id": "d79b1c13",
   "metadata": {},
   "outputs": [],
   "source": [
    "ref_fna = 'assets/Triticum_aestivum.IWGSC.dna.toplevel.fa'\n",
    "ref_gff = 'assets/Triticum_aestivum.IWGSC.60.gff3'"
   ]
  },
  {
   "cell_type": "code",
   "execution_count": 3,
   "id": "f166d658",
   "metadata": {},
   "outputs": [],
   "source": [
    "primer_seqs_F = ['GCCACGACCACTTCTCTAGC','TTCTCTAGCTCATGCCCGTC','CGCCTGTGTCCCGATAGATC','AAGACATGGACGAGCAGTGG','AAGAATCACGAGGCTGAGGC','GCAGGGTCTCCAAGCTCTAC','CTCCAAGCTCTACGTCCACG','TACCAATGGCGGAAGTACGG']\n",
    "primer_seqs_R = ['AAGTCTGCCCGATCATCCAC','GGAAGTCTGCCCGATCATCC','ACATGAAGTCCTCCTCCACG','CTGAGCCTCCTGTTCTCCTC','ACGACTGGTGGTGGTTGTTG','TGCACCTTCTTCTTCACCGG','CGCTGCACCTTCTTCTTCAC','CACCAGAGCCTTGTTGCTTG']\n",
    "target_gene = 'TraesCS7D02G497300.1'"
   ]
  },
  {
   "cell_type": "code",
   "execution_count": 4,
   "id": "827ca904",
   "metadata": {},
   "outputs": [],
   "source": [
    "def search_mismatch(primer, sequence, max_mismatch=4, forward=True):\n",
    "    \"\"\"\n",
    "    Return True if the primer is diverse enough ( at least 1 snp in the last 3bp )\n",
    "    \"\"\"\n",
    "    primer_len, seq_len = len(primer), len(sequence)\n",
    "    assert seq_len >= primer_len, 'Primer is larger than the sequence'\n",
    "\n",
    "    if primer in sequence:  # Exact match - bad primer\n",
    "        # Print +/- 50 bp around the sequence match\n",
    "        location = sequence.find(primer)\n",
    "        start = max(0, location - 50)\n",
    "        end = min(seq_len, location + len(primer) + 50)\n",
    "        return False, sequence[start:end]\n",
    "\n",
    "    for i in range(seq_len - primer_len + 1):\n",
    "        segment = sequence[i:i + primer_len]\n",
    "        mm = sum(1 for a, b in zip(primer, segment) if a != b)\n",
    "        if mm < max_mismatch:\n",
    "            if forward:\n",
    "                last_mm = sum(1 for a, b in zip(primer[-3:], segment[-3:]) if a != b)\n",
    "            else:\n",
    "                last_mm = sum(1 for a, b in zip(primer[:3], segment[:3]) if a != b)\n",
    "            if last_mm > 0:\n",
    "                return True, None\n",
    "            else:\n",
    "                # Print +/- 50 bp around the sequence match\n",
    "                location = sequence.find(segment)\n",
    "                start = max(0, location - 50)\n",
    "                end = min(seq_len, location + len(segment) + 50)\n",
    "                return False, segment\n",
    "\n",
    "    return True, None\n"
   ]
  },
  {
   "cell_type": "code",
   "execution_count": 5,
   "id": "2e76fc23",
   "metadata": {},
   "outputs": [],
   "source": [
    "def offtarget_in_host(primer, host_genome, forward=True):\n",
    "    \"\"\"\n",
    "    Check for off-targets in the host genome.\n",
    "    \"\"\"\n",
    "    host_genome = str(Seq(host_genome))\n",
    "    primer_rc = str(Seq(primer).reverse_complement())\n",
    "\n",
    "    if forward:\n",
    "        is_diverse, segment = search_mismatch(primer, host_genome)\n",
    "    else:\n",
    "        is_diverse, segment = search_mismatch(primer_rc, host_genome, forward=False)\n",
    "\n",
    "    return not is_diverse, segment\n"
   ]
  },
  {
   "cell_type": "code",
   "execution_count": 6,
   "id": "375568e3",
   "metadata": {},
   "outputs": [],
   "source": [
    "def modify_sequence(ref_fna, ref_gff, target_gene):\n",
    "    \"\"\"\n",
    "    Modify the reference genome by masking the target gene with 'N'.\n",
    "    \"\"\"\n",
    "    modified_sequence = \"\"\n",
    "    target_gene_loc = {}\n",
    "    found = False\n",
    "\n",
    "    with open(ref_gff, \"r\") as gff_file:\n",
    "        for line in gff_file:\n",
    "            if line.startswith(\"#\"):\n",
    "                continue\n",
    "            fields = line.strip().split(\"\\t\")\n",
    "            if fields[2] == \"mRNA\" and \"ID=\" in fields[8]:\n",
    "                gene_id = fields[8].split(':')[1].split(\";\")[0]\n",
    "                if gene_id == target_gene:\n",
    "                    chrom = fields[0]\n",
    "                    start = int(fields[3])\n",
    "                    end = int(fields[4])\n",
    "                    target_gene_loc[gene_id] = [(chrom, start, end)]\n",
    "                    found = True\n",
    "\n",
    "    if not found:\n",
    "        print(f\"Target gene {target_gene} not found in GFF file.\")\n",
    "        return None\n",
    "\n",
    "    for record in SeqIO.parse(ref_fna, \"fasta\"):\n",
    "        for gene_id, location in target_gene_loc.items():\n",
    "            chrom, start, end = location[0]\n",
    "            if record.id == chrom:\n",
    "                sequence = str(record.seq)\n",
    "                sequence = sequence[:start - 1] + \"N\" * (end - start + 1) + sequence[end:]\n",
    "                modified_sequence += sequence\n",
    "            else:\n",
    "                modified_sequence += str(record.seq)\n",
    "\n",
    "    return modified_sequence"
   ]
  },
  {
   "cell_type": "code",
   "execution_count": 7,
   "id": "4408bfa4",
   "metadata": {},
   "outputs": [
    {
     "name": "stderr",
     "output_type": "stream",
     "text": [
      "Checking forward primers:  25%|██▌       | 2/8 [05:14<15:34, 155.79s/it]"
     ]
    },
    {
     "name": "stdout",
     "output_type": "stream",
     "text": [
      "The forward primer GCCACGACCACTTCTCTAGC is not diverse enough.\n",
      "Location: TGTCCCCTCCCCCTCCTCTCTATATATTGATGTCCGCGCGCTTCCTCCCAGCCACGACCACTTCTCTAGCTCATGCCCGTCTAGCTTCCCGGTCTTCTTCTTCGACTTCTTGGTTCTTCC\n",
      "The forward primer TTCTCTAGCTCATGCCCGTC is not diverse enough.\n",
      "Location: CCTCTCATGTCCCCTCCCCATCCTCTCTATAAATTGATGCCCACGACCACTTCTCTAGCTCATGCCCGTCTAGCTTCCCGGTCTTCTTCTTCGACTTCTTCCATTCTTGAGCTACTGCGA\n"
     ]
    },
    {
     "name": "stderr",
     "output_type": "stream",
     "text": [
      "Checking forward primers:  38%|███▊      | 3/8 [07:41<12:40, 152.11s/it]"
     ]
    },
    {
     "name": "stdout",
     "output_type": "stream",
     "text": [
      "The forward primer CGCCTGTGTCCCGATAGATC is not diverse enough.\n",
      "Location: CGACTGCATCCCGATAGATC\n",
      "The forward primer AAGACATGGACGAGCAGTGG is not diverse enough.\n",
      "Location: CTGTTTGCCGATAGATTCGTTTCCATTCTCGAGCTACTGCGAATTCAAGGAAGACATGGACGAGCAGTGGATGATCGGGCAGACTTCCCTAAGCCTCAGCCTCAACGTCGGCGGGCCGCG\n"
     ]
    },
    {
     "name": "stderr",
     "output_type": "stream",
     "text": [
      "Checking forward primers:  62%|██████▎   | 5/8 [12:38<07:28, 149.44s/it]"
     ]
    },
    {
     "name": "stdout",
     "output_type": "stream",
     "text": [
      "The forward primer AAGAATCACGAGGCTGAGGC is diverse enough.\n",
      "The forward primer GCAGGGTCTCCAAGCTCTAC is not diverse enough.\n",
      "Location: CCAGGAGCCCTGCAACAGCAAGCGCGTCCACGCCGACGAGGTCAAGGCCAGCAGGGTCTCCAAGCTCTACGTCCACGCCGATCCCTCCGACCTCAGCCTCGTAAGTAACGAACACCCAGC\n"
     ]
    },
    {
     "name": "stderr",
     "output_type": "stream",
     "text": [
      "Checking forward primers: 100%|██████████| 8/8 [20:47<00:00, 157.69s/it]"
     ]
    },
    {
     "name": "stdout",
     "output_type": "stream",
     "text": [
      "The forward primer CTCCAAGCTCTACGTCCACG is not diverse enough.\n",
      "Location: CCCTGCAACAGCAAGCGCGTCCACGCCGACGAGGTCAAGGCCAGCAGGGTCTCCAAGCTCTACGTCCACGCCGATCCCTCCGACCTCAGCCTCGTAAGTAACGAACACCCAGCACCGACC\n",
      "The forward primer TACCAATGGCGGAAGTACGG is not diverse enough.\n",
      "Location: TAACTAATCAATTTGCGCTTGGTTTTGACGAGCAGGTGGTGAAGGATGGGTACCAATGGCGGAAGTACGGGCAGAAGGTGACCAAGGACAACCCGTGCCCGAGGGCCTACTTCCGGTGCT\n"
     ]
    },
    {
     "name": "stderr",
     "output_type": "stream",
     "text": [
      "Checking forward primers: 100%|██████████| 8/8 [20:47<00:00, 155.93s/it]\n",
      "Checking reverse primers:  25%|██▌       | 2/8 [04:42<14:14, 142.43s/it]"
     ]
    },
    {
     "name": "stdout",
     "output_type": "stream",
     "text": [
      "The reverse primer AAGTCTGCCCGATCATCCAC is not diverse enough.\n",
      "Location: TCTTTTCCATTCTCAAGCTACAGCGAATTCAAGGTAGACATGGACGAGCAGTGGATGATCGGGCAGACTTCCCTCAGCCTTAGCCTCAACGTCGGCGGGCCTACGGCGCGGCGAGGTGCT\n",
      "The reverse primer GGAAGTCTGCCCGATCATCC is not diverse enough.\n",
      "Location: TTTTCCATTCTCAAGCTACAGCGAATTCAAGGTAGACATGGACGAGCAGTGGATGATCGGGCAGACTTCCCTCAGCCTTAGCCTCAACGTCGGCGGGCCTACGGCGCGGCGAGGTGCTCC\n"
     ]
    },
    {
     "name": "stderr",
     "output_type": "stream",
     "text": [
      "Checking reverse primers:  50%|█████     | 4/8 [09:45<09:52, 148.25s/it]"
     ]
    },
    {
     "name": "stdout",
     "output_type": "stream",
     "text": [
      "The reverse primer ACATGAAGTCCTCCTCCACG is not diverse enough.\n",
      "Location: GTCGGCGGGCCTACGGCGCGGCGAGGTGCTCCTCCGGTGAGCAAGGTCCTCGTGGAGGAGGACTTCATGTCCTCCAGGAAAAATCACGAGGTCGAGGCACTGGAGGCCGAGCTCCGGCGA\n",
      "The reverse primer CTGAGCCTCCTGTTCTCCTC is not diverse enough.\n",
      "Location: GGAAAAATCACGAGGTCGAGGCACTGGAGGCCGAGCTCCGGCGAGTGGGCGAGGAGAACAGGAGGCTCAGCGACATGCTTCGCGCGCTGGTGGCCAAGTACGCCGACCTGCAGGGCAAGG\n"
     ]
    },
    {
     "name": "stderr",
     "output_type": "stream",
     "text": [
      "Checking reverse primers:  62%|██████▎   | 5/8 [12:22<07:34, 151.53s/it]"
     ]
    },
    {
     "name": "stdout",
     "output_type": "stream",
     "text": [
      "The reverse primer ACGACTGGTGGTGGTTGTTG is not diverse enough.\n",
      "Location: GCCAAGTACGCCGACCTGCAGGGCAAGGTCAGCGGCATGATGGCGGTGGCCAACAACCACCACCAGTCGTCGACGACATCGGAGGGCGGCTCATCGGCCTCGGCGACCAGAAAGCGCGCC\n"
     ]
    },
    {
     "name": "stderr",
     "output_type": "stream",
     "text": [
      "Checking reverse primers:  75%|███████▌  | 6/8 [13:51<04:20, 130.09s/it]"
     ]
    },
    {
     "name": "stdout",
     "output_type": "stream",
     "text": [
      "The reverse primer TGCACCTTCTTCTTCACCGG is diverse enough.\n",
      "The reverse primer CGCTGCACCTTCTTCTTCAC is not diverse enough.\n",
      "Location: ACCCGTGCCCGAGGGCCTACTTCCGGTGCTCGTTCGCGCCGTCGTGCCAGGTGAAGAAGAAGGTGCAGCGCAGCGCCGAGGACAAGACCGTGCTTGTCGCCACGTACGACGGCGACCACA\n"
     ]
    },
    {
     "name": "stderr",
     "output_type": "stream",
     "text": [
      "Checking reverse primers: 100%|██████████| 8/8 [18:37<00:00, 139.63s/it]"
     ]
    },
    {
     "name": "stdout",
     "output_type": "stream",
     "text": [
      "The reverse primer CACCAGAGCCTTGTTGCTTG is not diverse enough.\n",
      "Location: ACCGTGCTTGTGGCCACGTACGACGGCGATCACAACCACGCACCGCCGCCCAAGCAACAAGGCTCTGGTGGCAGGAAGAGGGGCGGCGCAGCCGTCCTCCACGTATCACCGGCGCCGGTG\n"
     ]
    },
    {
     "name": "stderr",
     "output_type": "stream",
     "text": [
      "\n"
     ]
    }
   ],
   "source": [
    "modified_sequence = modify_sequence(ref_fna, ref_gff, target_gene)\n",
    "\n",
    "for primer in tqdm(primer_seqs_F, desc=\"Checking forward primers\"):\n",
    "    has_offtarget, segment = offtarget_in_host(primer, modified_sequence, forward=True)\n",
    "    if has_offtarget:\n",
    "        print(f\"The forward primer {primer} is not diverse enough.\")\n",
    "        if segment:\n",
    "            print(f\"Location: {segment}\")\n",
    "    else:\n",
    "        print(f\"The forward primer {primer} is diverse enough.\")\n",
    "\n",
    "for primer in tqdm(primer_seqs_R, desc=\"Checking reverse primers\"):\n",
    "    has_offtarget, segment = offtarget_in_host(primer, modified_sequence, forward=False)\n",
    "    if has_offtarget:\n",
    "        print(f\"The reverse primer {primer} is not diverse enough.\")\n",
    "        if segment:\n",
    "            print(f\"Location: {segment}\")\n",
    "    else:\n",
    "        print(f\"The reverse primer {primer} is diverse enough.\")\n"
   ]
  }
 ],
 "metadata": {
  "kernelspec": {
   "display_name": "Python 3",
   "language": "python",
   "name": "python3"
  },
  "language_info": {
   "codemirror_mode": {
    "name": "ipython",
    "version": 3
   },
   "file_extension": ".py",
   "mimetype": "text/x-python",
   "name": "python",
   "nbconvert_exporter": "python",
   "pygments_lexer": "ipython3",
   "version": "3.11.5"
  }
 },
 "nbformat": 4,
 "nbformat_minor": 5
}
