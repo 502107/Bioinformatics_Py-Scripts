{
 "cells": [
  {
   "cell_type": "code",
   "execution_count": 1,
   "metadata": {},
   "outputs": [],
   "source": [
    "import pandas as pd\n",
    "import os\n",
    "import re\n",
    "import csv\n",
    "import gffutils\n",
    "import tempfile\n",
    "from tqdm import tqdm\n",
    "from Bio import SeqIO\n",
    "from Bio.Blast.Applications import NcbiblastnCommandline"
   ]
  },
  {
   "cell_type": "code",
   "execution_count": 21,
   "metadata": {},
   "outputs": [],
   "source": [
    "old_ref_fna = '/Volumes/Diane-Saunders/loizos/PST/REF/PST134/GCA_021901695.1/GCA_021901695.1_Pst134E36_v1_pri_genomic.fna'\n",
    "old_ref_gff = '/Volumes/Diane-Saunders/loizos/PST/REF/PST134/GCA_021901695.1/genomic.gff'\n",
    "new_ref_gff = '/Volumes/Diane-Saunders/loizos/PST/REF/PST130_ENSEMBL/Puccinia_striiformis.PST-130_1.0.60.gff'\n",
    "new_ref_fna = '/Volumes/Diane-Saunders/loizos/PST/REF/PST130_ENSEMBL/Puccinia_striiformis.PST-130_1.0.dna.toplevel.fa'\n",
    "gene_list = 'gene_list.txt'"
   ]
  },
  {
   "cell_type": "code",
   "execution_count": 16,
   "metadata": {},
   "outputs": [],
   "source": [
    "def extract_gene_sequences(gff_file, fasta_file, gene_list, padding=0):\n",
    "    gene_array = []\n",
    "    with open(gene_list, 'r') as f:\n",
    "        for line in f:\n",
    "            gene_id = line.strip()\n",
    "            gene_array.append(gene_id)\n",
    "    \n",
    "    genome = {}\n",
    "    for record in SeqIO.parse(fasta_file, \"fasta\"):\n",
    "        genome[record.id] = str(record.seq)\n",
    "    \n",
    "    old_genes = {} \n",
    "    \n",
    "    with open(gff_file, 'r') as f:\n",
    "        for line in f:\n",
    "            if line.startswith('#'):\n",
    "                continue\n",
    "            fields = line.strip().split('\\t')\n",
    "            if len(fields) < 9 or fields[2].lower() != 'gene':\n",
    "                continue\n",
    "                \n",
    "            chrom = fields[0]\n",
    "            start = int(fields[3])\n",
    "            end = int(fields[4])\n",
    "            strand = fields[6]\n",
    "            \n",
    "            attributes = fields[8]\n",
    "            match = re.search(r'Name=([^;]+)', attributes)\n",
    "            if not match:\n",
    "                continue\n",
    "            gene_id = match.group(1)\n",
    "            \n",
    "            if gene_id in gene_array and chrom in genome:\n",
    "                padded_start = max(1, start - padding)\n",
    "                padded_end = min(len(genome[chrom]), end + padding)\n",
    "                sequence = genome[chrom][padded_start-1:padded_end]\n",
    "                \n",
    "                old_genes[gene_id] = sequence\n",
    "    \n",
    "    return old_genes"
   ]
  },
  {
   "cell_type": "code",
   "execution_count": 17,
   "metadata": {},
   "outputs": [],
   "source": [
    "old_genes = extract_gene_sequences(old_ref_gff, old_ref_fna, gene_list, padding=0)"
   ]
  },
  {
   "cell_type": "code",
   "execution_count": 18,
   "metadata": {},
   "outputs": [
    {
     "name": "stdout",
     "output_type": "stream",
     "text": [
      "{'Pst134EA_000001': 'CCTTGAGGAGGACACACGATCTCGTGGCCGGAGATTTGTCCGCCCCGACTTGGTTACCACTTGTCTTCACCCCATCAAGGCAGACCGGTTGGAAGCAAATGGAGAAATGGAAGGGGACTTATCAAGTTTAGTCCATCTGAGTTCGTCGTTCAGGTAGGTTGCTTGGTCAACGAATTTCGGGCAGAAGGTCTCGCAAAAGATAACCTCCTTAAGTACGACTGTCCTCGTGCACTCCACAATACCACCGCTTGgtatcttcttattcttcctTTCAATAATCATCCGACGTTTgcggtttcttttctttacaaTTTTTTGATCTTTGACAGATCTTTGTTTACTTTTGTTATTTTTGGTGTTCAAGTATTTCAATAAACCAAACAGCAAACCCGAATCCATTAACTCGGAAATCGGCCATCAAACTATCATTTCACCAGACTCATCTGCAAGTATTGGATTCAGACCCGAGCAATGACTTCCCAATCTTCTCCGGATCAAACGATCGTGACGGCCATCCTCGCATCACAACTGATGTCTGTGCCATTCACCTGCTCTTTAACGCTACTGGTTTCAATTTTCGCCTGGCGGTACATCTCCAAAACCTCGGCACGCGCAATCCCGAAATCAGGATATTTTGAATATCCCTGTGTGAGCCGGACACCGGCTAGGGCCAGATTGGCGAGAGCAGGTGCTGGCCTAGTCGCGGTCATCTGTGTCATCTTAACAAGTATAGAGTTGGTGGTAAGTTACAACATATTTTTAAGTTCAATCTCAAGTGGCCAAGATCCAGATACTTATACTTCTGCATTTCTTTTCCCTAAGCATGTATATCAAGCATCCGTCGTACATCCTCGGGACCTTACATATTTCCAAAGAACTCCCTGGACTTTTGCATTGATCCCTGTCTTGACCGCGTTCGTAACTATCCACCTCTTCACTTGCGGCTTCATTTTTGTAAACTTCATCTATTAACCAACCGGATCACTGTGCAGCATTGTCAACGCCATTAGTCAAATATATTTCTCCAGTAAGGCATGCAGGAATCATCTCAACATGAGGTTCATCACCGTTCTAGGACTATTAGGCGTGATAAGTCTAATAGGTGGAGTTTCTTCAAGCATCGCCATGGGTAGGTTTCCTTTGTTCTTGTCTTGAATACACCAATGATGATCATTAACCAACTCAGGTCTTGATTCCATTTCACAGTTGTTCGTCTCTCCCAAAAATTACACAGTCACGGGACGCCCGTAGCAGAGAAGCTCTTTAGGGCCTATTTAGTCACGTCGACGATATCAAGTGGTTTGATCAGCTTTCTGCTGCTTTGCTCATCCATGAAGCAGAGCGAACTTGCCAGAAGGGAGTCACTGAGAAACGCGGCAGTGTAAGTTTTTGGATGTACTCATTTCGCAGAGACCCGAAGTAAAAGCCTGACTTGCATTTCCGTTACCAGAAAATTTGAACGCCATACGATCCAATCAATGGTCAACTTCCTTCTTTCCACTTACACGCTGGTTTTTGTGTTAGAAATAAGCTCCATCATCTGCGCCAGTGCTTCGCTATCTTCCAATTTCACCGTAGCACTCCACTCCAGTcaagccttcttcttcttgcaaAGGCTTACAATCTGCGTTATGGCACTATCGTTCGGTATGCCTCAGTATTCTCTGCTTCGCTGGATACGCTCAGCTTTCCTGACCCCACAAAATTGGTTGCAGTGTATGCCCTCCTCAACGAGAGTAAGATCATTCCTAGCCAAAGTCTCTCCACGACTGTCACATTCGAAAAGGTCCATGACTCGGACCCCGAAAATGGACGACAAACGATCGCGAAACAAGACATCACTCCTGCCCGACCCAACAGACCCAGTGAAGTAGATGTACAGGATATTGGAAGGTTCGATTTGACAACATACAACAGTTCCGAGCATGTGAGTCACATCAATTAGTTCCCTCAATTGATGAGTATATACTTACCTTGATCGTGGTTCACATTCTCACAGAAACCGCTATCATCGGAAGAAGACGAGGAGTTCGACGAACTTTTTGTCGATACATTCCCCTCAGAGGGTATCCCAATGACTGTGAGTCTCATCACTTTGCCACTAGACTCTAATTGATTATCGCAGGCTGATCAGAGTTTCCACGGATCCAGCAAGATGAAACAGTGACAGATAATACATGGCCACTCGCAAAGAGAATCTCAGCATCCTTGTCTCTGCCAGAAAAAGCGCTTGGCGAATTTGCATcattggtatgttttttcttctcttgttctCCACTTCCATGCATTAATCCTTGACCTCTGTTAACCAATCTTCAATCTTTGGAATCCATTGGATTATAAAGCCAGGGCGAAGTTCCTCGCTGTTCGTGCGACAAAAACCGCCAACCCTTTCCTCGATGCGAAGTCTCCAACTGACGACCGACACTTCCAAGCAATTGCCGACAGCTAGCCCAAGAACGAAGAAGTCTGGCAGCAAGTCCAAAAGACACCAGAGCCAGCTGAAATACATCATCAGTTCTCCCATTGCTCAAAAGCAGACTGTTGCATACAATGAGTTCCAGGAGGAAAGTTTGATACTTGCTTAACTTCCTTCCAAGCAGAGGACAAGGGATTTTTTGCGCATGACTGCAATAATTGTGCAGATATACATGTGATGGGCGCGATAATTTGGGATGATGTGATTATTTCTATTTAATTCTCTTTAGGTTGTACATATTTAGacactttttcttcttttcaa'}\n"
     ]
    }
   ],
   "source": [
    "print(old_genes)"
   ]
  },
  {
   "cell_type": "code",
   "execution_count": null,
   "metadata": {},
   "outputs": [],
   "source": [
    "def blast_match_genes(query_dict,ref_fna,ref_gff):\n",
    "    db_path = os.path.splitext(ref_gff)[0] + '.db'\n",
    "    if not os.path.exists(db_path):\n",
    "        gffutils.create_db(ref_gff, db_path, merge_strategy='create_unique')\n",
    "    db = gffutils.FeatureDB(db_path)\n",
    "\n",
    "    sseqid_dict = {}\n",
    "    \n",
    "    for query_id, query_seq in tqdm(query_dict.items()):\n",
    "        temp_dir = tempfile.gettempdir()\n",
    "        query_temp = os.path.join(temp_dir, f\"query_{query_id}.fasta\")\n",
    "        \n",
    "        with open(query_temp, 'w') as f:\n",
    "            f.write(f'>{query_id}\\n{query_seq}\\n')\n",
    "        \n",
    "        blastn_cline = NcbiblastnCommandline(query=query_temp, subject=ref_fna, outfmt=6)\n",
    "        stdout, stderr = blastn_cline()\n",
    "        \n",
    "        # Parse the blast output\n",
    "        for line in stdout.splitlines():\n",
    "            line = line.split('\\t')\n",
    "            pident = float(line[2])\n",
    "            # if pident < 97:\n",
    "            #     continue\n",
    "            sseqid = line[1]\n",
    "            sstart = int(line[8])\n",
    "            send = int(line[9])\n",
    "            old_gene_length = len(query_seq)\n",
    "            if query_id not in sseqid_dict:\n",
    "                sseqid_dict[query_id] = []\n",
    "\n",
    "            # Get the new gene ID from the gff db\n",
    "            for gene in db.region(region=(sseqid, sstart, send), featuretype='gene'):\n",
    "                gene_id = gene.attributes['ID'][0]\n",
    "                if '-' in gene_id:\n",
    "                    gene_id = gene_id.split('-')[1]\n",
    "                    gene_id = gene_id.split('-')[0]\n",
    "                gene_length = gene.end - gene.start\n",
    "                pct_gene_len = old_gene_length / gene_length\n",
    "                entry = (gene_id, pident, old_gene_length, gene_length, pct_gene_len)\n",
    "                sseqid_dict[query_id].append(entry)\n",
    "                \n",
    "        os.remove(query_temp)\n",
    "    \n",
    "    with open('old-to-new-genes.csv', 'w', newline='') as f:\n",
    "        writer = csv.writer(f)\n",
    "        writer.writerow(['Old_GeneID', 'New_GeneID', 'PctIdentity', 'Old_GeneLen', 'New_GeneLen', 'PctGeneLen'])\n",
    "        for query_id, gene_info in sseqid_dict.items():\n",
    "            for gene_id, pident, old_gene_length, gene_length, pct_gene_len in gene_info:\n",
    "                writer.writerow([query_id, gene_id, pident, old_gene_length, gene_length, pct_gene_len])\n",
    "    \n",
    "    return sseqid_dict"
   ]
  },
  {
   "cell_type": "code",
   "execution_count": 33,
   "metadata": {},
   "outputs": [
    {
     "name": "stderr",
     "output_type": "stream",
     "text": [
      "100%|██████████| 1/1 [00:07<00:00,  7.14s/it]"
     ]
    },
    {
     "name": "stdout",
     "output_type": "stream",
     "text": [
      "ID: ['gene:maker-PST130_7723-snap-gene-0.10-mRNA-1']\n",
      "biotype: ['protein_coding']\n",
      "gene_id: ['maker-PST130_7723-snap-gene-0.10-mRNA-1']\n",
      "logic_name: ['genemodel_jgi']\n"
     ]
    },
    {
     "name": "stderr",
     "output_type": "stream",
     "text": [
      "\n"
     ]
    }
   ],
   "source": [
    "sseqid_dict = blast_match_genes(old_genes, new_ref_fna, new_ref_gff)\n",
    "with open('old-to-new-genes_justids.csv', 'w', newline='') as f:\n",
    "    print('Old_GeneID,New_GeneID', file=f)\n",
    "    for query_id, gene_info in sseqid_dict.items():\n",
    "        for gene_id, pident, old_gene_length, gene_length, pct_gene_len in gene_info:\n",
    "            print(f'{query_id},{gene_id}', file=f)"
   ]
  }
 ],
 "metadata": {
  "kernelspec": {
   "display_name": "Python 3",
   "language": "python",
   "name": "python3"
  },
  "language_info": {
   "codemirror_mode": {
    "name": "ipython",
    "version": 3
   },
   "file_extension": ".py",
   "mimetype": "text/x-python",
   "name": "python",
   "nbconvert_exporter": "python",
   "pygments_lexer": "ipython3",
   "version": "3.12.0"
  }
 },
 "nbformat": 4,
 "nbformat_minor": 2
}
