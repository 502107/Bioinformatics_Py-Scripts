{
 "cells": [
  {
   "cell_type": "code",
   "execution_count": 40,
   "metadata": {},
   "outputs": [],
   "source": [
    "import os\n",
    "import gzip\n",
    "import numpy as np\n",
    "import pandas as pd\n",
    "from goatools.obo_parser import GODag\n",
    "from goatools.anno.gaf_reader import GafReader\n",
    "from goatools.goea.go_enrichment_ns import GOEnrichmentStudyNS\n",
    "import seaborn as sns\n",
    "import matplotlib.pyplot as plt\n",
    "from adjustText import adjust_text\n",
    "import textwrap\n",
    "import requests\n",
    "import matplotlib as mpl"
   ]
  },
  {
   "cell_type": "code",
   "execution_count": null,
   "metadata": {},
   "outputs": [],
   "source": [
    "gene_list = pd.read_csv('gene_list.txt', header=None, names=['gene'])\n",
    "gene_list = gene_list['gene'].tolist()"
   ]
  },
  {
   "cell_type": "code",
   "execution_count": null,
   "metadata": {},
   "outputs": [],
   "source": [
    "if not os.path.exists(\"go-basic.obo\"):\n",
    "    from goatools.base import download_go_basic_obo\n",
    "    download_go_basic_obo()\n",
    "    # !wget http://purl.obolibrary.org/obo/go/go-basic.obo -O go-basic.obo\n",
    "if not os.path.exists(\"goa_uniprot_all.gaf.gz\"):\n",
    "    !wget https://ftp.ebi.ac.uk/pub/databases/GO/goa/UNIPROT/goa_uniprot_all.gaf.gz\n",
    "    \n",
    "def filter_gaf_by_taxid(input_file, output_file, taxid):\n",
    "    with gzip.open(input_file, 'rt') as f_in, open(output_file, 'w') as f_out:\n",
    "        for line in f_in:\n",
    "            if line.startswith('!'):\n",
    "                f_out.write(line)\n",
    "                continue\n",
    "            fields = line.strip().split('\\t')\n",
    "            if len(fields) >= 13 and f\"taxon:{taxid}\" in fields[12]:\n",
    "                f_out.write(line)\n",
    "\n",
    "if not os.path.exists(\"goa_pst_filtered.gaf\"):\n",
    "    filter_gaf_by_taxid(\"goa_uniprot_all.gaf.gz\", \"goa_pst_filtered.gaf\", 27350)"
   ]
  },
  {
   "cell_type": "code",
   "execution_count": 5,
   "metadata": {},
   "outputs": [
    {
     "name": "stdout",
     "output_type": "stream",
     "text": [
      "go-basic.obo: fmt(1.2) rel(2025-02-06) 43,597 Terms\n",
      "HMS:0:00:29.438952 1,103,693 annotations READ: goa_wheat_filtered.gaf \n",
      "212941 IDs in loaded association branch, biological_process\n",
      "\n",
      "Load BP Ontology Enrichment Analysis ...\n",
      " 62% 132,353 of 212,941 population items found in association\n",
      "\n",
      "Load CC Ontology Enrichment Analysis ...\n",
      " 59% 126,081 of 212,941 population items found in association\n",
      "\n",
      "Load MF Ontology Enrichment Analysis ...\n",
      " 79% 167,759 of 212,941 population items found in association\n"
     ]
    }
   ],
   "source": [
    "obodag = GODag(\"go-basic.obo\")\n",
    "gaf_reader = GafReader(\"goa_wheat_filtered.gaf\", godag=obodag)\n",
    "ns2assoc = gaf_reader.get_ns2assc()\n",
    "\n",
    "background_uniprot = set(gaf_reader.get_id2gos().keys())\n",
    "\n",
    "goaobj = GOEnrichmentStudyNS(\n",
    "    background_uniprot,  # List of all UniProt IDs\n",
    "    ns2assoc,            # UniProt/GO associations\n",
    "    obodag,              # Ontologies\n",
    "    propagate_counts=False,\n",
    "    alpha=0.05,          # default significance cut-off\n",
    "    methods=['fdr_bh']   # default multipletest correction method\n",
    ")"
   ]
  },
  {
   "cell_type": "code",
   "execution_count": 6,
   "metadata": {},
   "outputs": [],
   "source": [
    "def run_go_enrichment(uniprot_set, name, goaobj):\n",
    "    uniprot_ids = list(uniprot_set['Entry'])\n",
    "    \n",
    "    goa_results_all = goaobj.run_study(uniprot_ids)\n",
    "    \n",
    "    goa_results_sig = [r for r in goa_results_all if r.p_fdr_bh < 0.05]\n",
    "    \n",
    "    results_df = pd.DataFrame([\n",
    "        {\n",
    "            'protein': r.study_items,\n",
    "            'GO_term': r.name, \n",
    "            'p_value': r.p_uncorrected,\n",
    "            'p_fdr_bh': r.p_fdr_bh,\n",
    "            'protein_count': r.study_count,\n",
    "            'gene_set': name,\n",
    "            'namespace': r.NS\n",
    "        } \n",
    "        for r in goa_results_sig\n",
    "    ])\n",
    "    \n",
    "    return results_df"
   ]
  },
  {
   "cell_type": "code",
   "execution_count": null,
   "metadata": {},
   "outputs": [
    {
     "name": "stdout",
     "output_type": "stream",
     "text": [
      "\n",
      "Runing BP Ontology Analysis: current study set of 100 IDs.\n",
      " 78%     78 of    100 study items found in association\n",
      "100%    100 of    100 study items found in population(212941)\n",
      "Calculating 2,571 uncorrected p-values using fisher_scipy_stats\n",
      "   2,571 terms are associated with 132,353 of 212,941 population items\n",
      "      77 terms are associated with     78 of    100 study items\n",
      "  METHOD fdr_bh:\n",
      "      10 GO terms found significant (< 0.05=alpha) ( 10 enriched +   0 purified): statsmodels fdr_bh\n",
      "      44 study items associated with significant GO IDs (enriched)\n",
      "       0 study items associated with significant GO IDs (purified)\n",
      "\n",
      "Runing CC Ontology Analysis: current study set of 100 IDs.\n",
      " 97%     97 of    100 study items found in association\n",
      "100%    100 of    100 study items found in population(212941)\n",
      "Calculating 736 uncorrected p-values using fisher_scipy_stats\n",
      "     736 terms are associated with 126,081 of 212,941 population items\n",
      "      43 terms are associated with     97 of    100 study items\n",
      "  METHOD fdr_bh:\n",
      "      12 GO terms found significant (< 0.05=alpha) ( 11 enriched +   1 purified): statsmodels fdr_bh\n",
      "      96 study items associated with significant GO IDs (enriched)\n",
      "       0 study items associated with significant GO IDs (purified)\n",
      "\n",
      "Runing MF Ontology Analysis: current study set of 100 IDs.\n",
      " 91%     91 of    100 study items found in association\n",
      "100%    100 of    100 study items found in population(212941)\n",
      "Calculating 2,569 uncorrected p-values using fisher_scipy_stats\n",
      "   2,569 terms are associated with 167,759 of 212,941 population items\n",
      "      93 terms are associated with     91 of    100 study items\n",
      "  METHOD fdr_bh:\n",
      "      12 GO terms found significant (< 0.05=alpha) ( 12 enriched +   0 purified): statsmodels fdr_bh\n",
      "      69 study items associated with significant GO IDs (enriched)\n",
      "       0 study items associated with significant GO IDs (purified)\n",
      "\n",
      "Runing BP Ontology Analysis: current study set of 100 IDs.\n",
      " 78%     78 of    100 study items found in association\n",
      "100%    100 of    100 study items found in population(212941)\n",
      "Calculating 2,571 uncorrected p-values using fisher_scipy_stats\n",
      "   2,571 terms are associated with 132,353 of 212,941 population items\n",
      "      79 terms are associated with     78 of    100 study items\n",
      "  METHOD fdr_bh:\n",
      "      12 GO terms found significant (< 0.05=alpha) ( 12 enriched +   0 purified): statsmodels fdr_bh\n",
      "      35 study items associated with significant GO IDs (enriched)\n",
      "       0 study items associated with significant GO IDs (purified)\n",
      "\n",
      "Runing CC Ontology Analysis: current study set of 100 IDs.\n",
      " 98%     98 of    100 study items found in association\n",
      "100%    100 of    100 study items found in population(212941)\n",
      "Calculating 736 uncorrected p-values using fisher_scipy_stats\n",
      "     736 terms are associated with 126,081 of 212,941 population items\n",
      "      34 terms are associated with     98 of    100 study items\n",
      "  METHOD fdr_bh:\n",
      "      11 GO terms found significant (< 0.05=alpha) ( 10 enriched +   1 purified): statsmodels fdr_bh\n",
      "      97 study items associated with significant GO IDs (enriched)\n",
      "       0 study items associated with significant GO IDs (purified)\n",
      "\n",
      "Runing MF Ontology Analysis: current study set of 100 IDs.\n",
      " 79%     79 of    100 study items found in association\n",
      "100%    100 of    100 study items found in population(212941)\n",
      "Calculating 2,569 uncorrected p-values using fisher_scipy_stats\n",
      "   2,569 terms are associated with 167,759 of 212,941 population items\n",
      "      77 terms are associated with     79 of    100 study items\n",
      "  METHOD fdr_bh:\n",
      "      16 GO terms found significant (< 0.05=alpha) ( 16 enriched +   0 purified): statsmodels fdr_bh\n",
      "      61 study items associated with significant GO IDs (enriched)\n",
      "       0 study items associated with significant GO IDs (purified)\n",
      "\n",
      "Runing BP Ontology Analysis: current study set of 84 IDs.\n",
      " 87%     73 of     84 study items found in association\n",
      "100%     84 of     84 study items found in population(212941)\n",
      "Calculating 2,571 uncorrected p-values using fisher_scipy_stats\n",
      "   2,571 terms are associated with 132,353 of 212,941 population items\n",
      "      87 terms are associated with     73 of     84 study items\n",
      "  METHOD fdr_bh:\n",
      "      15 GO terms found significant (< 0.05=alpha) ( 15 enriched +   0 purified): statsmodels fdr_bh\n",
      "      38 study items associated with significant GO IDs (enriched)\n",
      "       0 study items associated with significant GO IDs (purified)\n",
      "\n",
      "Runing CC Ontology Analysis: current study set of 84 IDs.\n",
      "100%     84 of     84 study items found in association\n",
      "100%     84 of     84 study items found in population(212941)\n",
      "Calculating 736 uncorrected p-values using fisher_scipy_stats\n",
      "     736 terms are associated with 126,081 of 212,941 population items\n",
      "      53 terms are associated with     84 of     84 study items\n",
      "  METHOD fdr_bh:\n",
      "      18 GO terms found significant (< 0.05=alpha) ( 17 enriched +   1 purified): statsmodels fdr_bh\n",
      "      80 study items associated with significant GO IDs (enriched)\n",
      "       2 study items associated with significant GO IDs (purified)\n",
      "\n",
      "Runing MF Ontology Analysis: current study set of 84 IDs.\n",
      " 77%     65 of     84 study items found in association\n",
      "100%     84 of     84 study items found in population(212941)\n",
      "Calculating 2,569 uncorrected p-values using fisher_scipy_stats\n",
      "   2,569 terms are associated with 167,759 of 212,941 population items\n",
      "      68 terms are associated with     65 of     84 study items\n",
      "  METHOD fdr_bh:\n",
      "       6 GO terms found significant (< 0.05=alpha) (  6 enriched +   0 purified): statsmodels fdr_bh\n",
      "      27 study items associated with significant GO IDs (enriched)\n",
      "       0 study items associated with significant GO IDs (purified)\n",
      "\n",
      "Runing BP Ontology Analysis: current study set of 86 IDs.\n",
      " 85%     72 of     85 study items found in association\n",
      " 99%     85 of     86 study items found in population(212941)\n",
      "Calculating 2,571 uncorrected p-values using fisher_scipy_stats\n",
      "   2,571 terms are associated with 132,353 of 212,941 population items\n",
      "      85 terms are associated with     72 of     86 study items\n",
      "  METHOD fdr_bh:\n",
      "      14 GO terms found significant (< 0.05=alpha) ( 14 enriched +   0 purified): statsmodels fdr_bh\n",
      "      45 study items associated with significant GO IDs (enriched)\n",
      "       0 study items associated with significant GO IDs (purified)\n",
      "\n",
      "Runing CC Ontology Analysis: current study set of 86 IDs.\n",
      "100%     85 of     85 study items found in association\n",
      " 99%     85 of     86 study items found in population(212941)\n",
      "Calculating 736 uncorrected p-values using fisher_scipy_stats\n",
      "     736 terms are associated with 126,081 of 212,941 population items\n",
      "      40 terms are associated with     85 of     86 study items\n",
      "  METHOD fdr_bh:\n",
      "      18 GO terms found significant (< 0.05=alpha) ( 17 enriched +   1 purified): statsmodels fdr_bh\n",
      "      83 study items associated with significant GO IDs (enriched)\n",
      "       1 study items associated with significant GO IDs (purified)\n",
      "\n",
      "Runing MF Ontology Analysis: current study set of 86 IDs.\n",
      " 82%     70 of     85 study items found in association\n",
      " 99%     85 of     86 study items found in population(212941)\n",
      "Calculating 2,569 uncorrected p-values using fisher_scipy_stats\n",
      "   2,569 terms are associated with 167,759 of 212,941 population items\n",
      "      72 terms are associated with     70 of     86 study items\n",
      "  METHOD fdr_bh:\n",
      "       9 GO terms found significant (< 0.05=alpha) (  9 enriched +   0 purified): statsmodels fdr_bh\n",
      "      36 study items associated with significant GO IDs (enriched)\n",
      "       0 study items associated with significant GO IDs (purified)\n"
     ]
    }
   ],
   "source": [
    "results = run_go_enrichment(gene_list, 'gene_list', goaobj)"
   ]
  },
  {
   "cell_type": "code",
   "execution_count": null,
   "metadata": {},
   "outputs": [],
   "source": [
    "def faceted_bubble_plot(d, title):\n",
    "    d = d[d['adjusted_p_value'] < 1]\n",
    "    colors = {\"BP\": \"#4059AD\", \"CC\": \"#F4B942\", \"MF\": \"#88CD4A\"}\n",
    "    \n",
    "    d['GO'] = d['GO'].str.replace('.', '')\n",
    "    \n",
    "    yintercepts = pd.DataFrame({\n",
    "        'source': ['BP', 'CC', 'MF'],\n",
    "        'yintercept': [5, 15, 5]\n",
    "    })\n",
    "    \n",
    "    d = pd.merge(d, yintercepts, on='source', how='left')\n",
    "    \n",
    "    sources = d['source'].unique()\n",
    "    \n",
    "    fig, axes = plt.subplots(1, len(sources), figsize=(10, 5), sharey=True)\n",
    "    if len(sources) == 1:\n",
    "        axes = [axes]\n",
    "    \n",
    "    for i, source in enumerate(sources):\n",
    "        source_data = d[d['source'] == source]\n",
    "        \n",
    "        axes[i].scatter(\n",
    "            x=range(len(source_data)),\n",
    "            y=-np.log10(source_data['adjusted_p_value']),\n",
    "            s=source_data['intersection_size'] * 20,\n",
    "            c=colors[source],\n",
    "            alpha=0.7,\n",
    "            edgecolors=colors[source],\n",
    "            linewidths=1\n",
    "        )\n",
    "        \n",
    "        yintercept = yintercepts[yintercepts['source'] == source]['yintercept'].values[0]\n",
    "        axes[i].axhline(y=yintercept, linestyle='-', color='gray', linewidth=0.2)\n",
    "        \n",
    "        texts = []\n",
    "        for j, row in source_data.iterrows():\n",
    "            if -np.log10(row['adjusted_p_value']) > yintercept:\n",
    "                wrapped_term = '\\n'.join(textwrap.wrap(row['term'], 15))\n",
    "                texts.append(axes[i].text(j, -np.log10(row['adjusted_p_value']), \n",
    "                                         wrapped_term, fontsize=8, ha='center', va='center'))\n",
    "        \n",
    "        adjust_text(texts, ax=axes[i], arrowprops=dict(arrowstyle='-', color='black', lw=0.5))\n",
    "        \n",
    "        axes[i].set_title(source, fontsize=12, pad=10, \n",
    "                         backgroundcolor='#97D8C4', color='black')\n",
    "        axes[i].set_xticks([])\n",
    "        axes[i].set_frame_on(True)\n",
    "        \n",
    "        for spine in axes[i].spines.values():\n",
    "            spine.set_visible(False)\n",
    "        axes[i].spines['bottom'].set_visible(True)\n",
    "        axes[i].spines['left'].set_visible(True)\n",
    "        axes[i].spines['bottom'].set_linewidth(0.5)\n",
    "        axes[i].spines['left'].set_linewidth(0.5)\n",
    "    \n",
    "    fig.text(0.04, 0.5, '-log10 (Padj)', va='center', rotation='vertical', fontsize=12)\n",
    "    \n",
    "    for ax in axes:\n",
    "        ax.set_ylim(0, 60)\n",
    "        ax.set_yticks(np.arange(0, 65, 5))\n",
    "    \n",
    "    fig.suptitle(title, fontsize=14, y=0.98)\n",
    "    \n",
    "    plt.tight_layout(rect=[0.05, 0, 1, 0.95])\n",
    "    return fig"
   ]
  },
  {
   "cell_type": "code",
   "execution_count": null,
   "metadata": {},
   "outputs": [],
   "source": [
    "def go_category_bubble_plot(d, go_category, title):\n",
    "    d = d[d['adjusted_p_value'] < 1]\n",
    "    d = d[d['source'] == go_category]\n",
    "    \n",
    "    gene_sets = d['gene_set'].unique()\n",
    "    d['gene_set'] = pd.Categorical(d['gene_set'], ordered=True)\n",
    "    d = d.sort_values('gene_set')\n",
    "    \n",
    "    colors = plt.cm.tab20(np.linspace(0, 1, len(gene_sets)))\n",
    "    markers = ['o', 's', 'D', 'h',]\n",
    "    \n",
    "    fig, ax = plt.subplots(figsize=(12, 6))\n",
    "    all_texts = []\n",
    "    \n",
    "    for i, (gene_set, group) in enumerate(d.groupby('gene_set')):\n",
    "        # Generate x positions first so we can use them for both points and labels\n",
    "        x_positions = np.random.normal(i, 0.2, len(group))\n",
    "        y_positions = -np.log10(group['adjusted_p_value'])\n",
    "        \n",
    "        # Plot all points for this gene set\n",
    "        ax.scatter(\n",
    "            x=x_positions,\n",
    "            y=y_positions,\n",
    "            s=group['intersection_size'] * 20,\n",
    "            c=[colors[i]] * len(group),\n",
    "            marker=markers[i % len(markers)],\n",
    "            alpha=0.7,\n",
    "            edgecolors=colors[i],\n",
    "            linewidths=1,\n",
    "            label=gene_set\n",
    "        )\n",
    "        \n",
    "        if len(group) > 0:\n",
    "            top_terms = group.nsmallest(min(3, len(group)), 'adjusted_p_value')\n",
    "            \n",
    "            highest_point_y = max(y_positions) if len(y_positions) > 0 else 0\n",
    "            label_y = highest_point_y + 5\n",
    "            \n",
    "            for _, term_row in top_terms.iterrows():\n",
    "                term_name = term_row['term']\n",
    "                \n",
    "                label_text = f\"{term_name}\"\n",
    "                \n",
    "                term_idx = group.index.get_loc(term_row.name)\n",
    "                term_x = x_positions[term_idx]\n",
    "                \n",
    "                text = ax.text(\n",
    "                    term_x, label_y, \n",
    "                    label_text, \n",
    "                    fontsize=8, \n",
    "                    ha='center', \n",
    "                    color=colors[i],\n",
    "                    bbox=dict(facecolor='white', alpha=0.7, edgecolor='none', pad=2)\n",
    "                )\n",
    "                all_texts.append(text)\n",
    "                label_y += 2 \n",
    "    \n",
    "    # if len(all_texts) > 0:\n",
    "    #     adjust_text(all_texts, ax=ax, arrowprops=dict(arrowstyle='->', color='gray', lw=0.5))\n",
    "    \n",
    "    ax.set_title(go_category, fontsize=14)\n",
    "    ax.set_xlabel('')\n",
    "    ax.set_ylabel('-log10 (Padj)', fontsize=12)\n",
    "    ax.set_ylim(0, 60)\n",
    "    ax.set_yticks(np.arange(0, 65, 5))\n",
    "    ax.legend(title='Gene Sets', bbox_to_anchor=(1.05, 1), loc='upper left')\n",
    "    \n",
    "    # Set x-axis limits and ticks\n",
    "    ax.set_xlim(-0.5, len(gene_sets) - 0.5)\n",
    "    ax.set_xticks(range(len(gene_sets)))\n",
    "    ax.set_xticklabels([])  # Hide x-tick labels\n",
    "    \n",
    "    plt.tight_layout()\n",
    "    return fig\n"
   ]
  },
  {
   "cell_type": "code",
   "execution_count": null,
   "metadata": {},
   "outputs": [
    {
     "name": "stderr",
     "output_type": "stream",
     "text": [
      "/var/folders/fc/_yzh77ts62g6bd_2c_tpfty4000g63/T/ipykernel_49327/605922924.py:22: FutureWarning:\n",
      "\n",
      "The default of observed=False is deprecated and will be changed to True in a future version of pandas. Pass observed=False to retain current behavior or observed=True to adopt the future default and silence this warning.\n",
      "\n"
     ]
    }
   ],
   "source": [
    "def format_go_results_for_bubble_plot(results_df):\n",
    "    namespace_map = {\n",
    "        'biological_process': 'BP',\n",
    "        'cellular_component': 'CC',\n",
    "        'molecular_function': 'MF'\n",
    "    }\n",
    "    \n",
    "    formatted_df = pd.DataFrame({\n",
    "        'term': results_df['GO_term'],\n",
    "        'adjusted_p_value': results_df['p_fdr_bh'],\n",
    "        'intersection_size': results_df['protein_count'],\n",
    "        'gene_set': results_df['gene_set'],\n",
    "        'source': results_df['namespace'],\n",
    "        'GO': results_df['GO_id'] if 'GO_id' in results_df.columns else 'GO:0000000'\n",
    "    })\n",
    "    \n",
    "    return formatted_df\n",
    "\n",
    "formatted_results = format_go_results_for_bubble_plot(gene_list)\n",
    "\n",
    "for go_category in ['BP', 'CC', 'MF']:\n",
    "    subset = formatted_results[formatted_results['source'] == go_category]\n",
    "    fig = go_category_bubble_plot(subset, go_category, f\"{go_category} GO Enrichment\")\n",
    "    new_rc_params = {'text.usetex': False,\"svg.fonttype\": 'none'}\n",
    "    mpl.rcParams.update(new_rc_params)\n",
    "    plt.savefig(f\"{go_category}_go_enrichment.svg\")\n",
    "    plt.close()\n",
    "\n",
    "# for gene_set in ['gene_list']:\n",
    "#     subset = formatted_results[formatted_results['gene_set'] == gene_set]\n",
    "#     fig = faceted_bubble_plot(subset, f\"{gene_set} GO Enrichment Analysis\")\n",
    "#     plt.savefig(f\"{gene_set}_go_enrichment.png\", dpi=300, bbox_inches='tight')\n",
    "#     plt.close()\n",
    "\n",
    "# fig = faceted_bubble_plot(formatted_results, \"GO Enrichment Analysis by Gene Set\")\n",
    "# plt.savefig(\"all_go_enrichment.png\", dpi=300, bbox_inches='tight')\n",
    "# plt.show()"
   ]
  },
  {
   "cell_type": "code",
   "execution_count": null,
   "metadata": {},
   "outputs": [],
   "source": [
    "def get_top_terms(df, n=20):\n",
    "    return df.sort_values('p_fdr_bh').head(n)\n",
    "\n",
    "top_results = pd.concat([\n",
    "    get_top_terms(gene_list)\n",
    "])\n",
    "\n",
    "# g = sns.FacetGrid(\n",
    "#     top_results, \n",
    "#     col='gene_set', \n",
    "#     col_wrap=2, \n",
    "#     height=4, \n",
    "#     sharey=False\n",
    "# )\n",
    "\n",
    "# g = g.map(sns.barplot, 'p_fdr_bh', 'GO_term')\n",
    "\n",
    "# g.set_axis_labels('FDR-corrected p-value', 'GO Term')\n",
    "# g.set_titles('{col_name}')\n",
    "# g.figure.tight_layout()\n",
    "# plt.subplots_adjust(top=0.9)\n",
    "\n",
    "# plt.show()"
   ]
  },
  {
   "cell_type": "code",
   "execution_count": null,
   "metadata": {},
   "outputs": [
    {
     "data": {
      "application/vnd.plotly.v1+json": {
       "config": {
        "plotlyServerURL": "https://plot.ly"
       },
       "data": [
        {
         "alignmentgroup": "True",
         "customdata": [
          [
           70,
           2.153552094384083e-38
          ],
          [
           18,
           7.552989439651959e-20
          ],
          [
           19,
           4.805236046483113e-19
          ],
          [
           0,
           2.8056055434208058e-12
          ],
          [
           8,
           2.1098126011891844e-9
          ],
          [
           16,
           9.228221444158389e-8
          ],
          [
           7,
           0.0000030546361860853167
          ],
          [
           4,
           0.000010981448987559943
          ],
          [
           3,
           0.00002578793374096307
          ]
         ],
         "hovertemplate": "GO Namespace=CC<br>gene_set=upreg_mt_top<br>FDR-corrected p-value=%{x}<br>GO Term=%{y}<br>protein_count=%{customdata[0]}<br>p_value=%{customdata[1]}<extra></extra>",
         "legendgroup": "CC",
         "marker": {
          "color": "#636efa",
          "pattern": {
           "shape": ""
          }
         },
         "name": "CC",
         "offsetgroup": "CC",
         "orientation": "h",
         "showlegend": true,
         "textposition": "auto",
         "type": "bar",
         "x": [
          1.5850143414666853e-35,
          2.7795001137919207e-17,
          1.1788845767371906e-16,
          5.162314199894283e-10,
          3.1056441489504793e-7,
          0.000011319951638167624,
          0.0003211731761369704,
          0.0010102933068555147,
          0.0021088799148165356
         ],
         "xaxis": "x3",
         "y": [
          "nucleus",
          "nucleolus",
          "ribonucleoprotein complex",
          "membrane",
          "nucleosome",
          "ribosome",
          "chromosome",
          "small-subunit processome",
          "nuclear speck"
         ],
         "yaxis": "y3"
        },
        {
         "alignmentgroup": "True",
         "customdata": [
          [
           82,
           3.678649517134149e-54
          ],
          [
           21,
           2.028794625160261e-24
          ],
          [
           15,
           1.20290777753485e-20
          ],
          [
           16,
           5.035324933275632e-15
          ],
          [
           0,
           2.8056055434208058e-12
          ],
          [
           10,
           7.377327392328605e-10
          ],
          [
           6,
           5.726963493966022e-9
          ],
          [
           5,
           3.9923656649643093e-7
          ]
         ],
         "hovertemplate": "GO Namespace=CC<br>gene_set=upreg_mt_down<br>FDR-corrected p-value=%{x}<br>GO Term=%{y}<br>protein_count=%{customdata[0]}<br>p_value=%{customdata[1]}<extra></extra>",
         "legendgroup": "CC",
         "marker": {
          "color": "#636efa",
          "pattern": {
           "shape": ""
          }
         },
         "name": "CC",
         "offsetgroup": "CC",
         "orientation": "h",
         "showlegend": false,
         "textposition": "auto",
         "type": "bar",
         "x": [
          2.7074860446107336e-51,
          7.46596422058976e-22,
          2.9511337475521655e-18,
          9.264997877227164e-13,
          4.129851359915426e-10,
          9.049521601256422e-8,
          6.021493045084274e-7,
          0.00003672976411767164
         ],
         "xaxis": "x4",
         "y": [
          "nucleus",
          "nucleolus",
          "nucleosome",
          "ribonucleoprotein complex",
          "membrane",
          "chromosome",
          "small-subunit processome",
          "chromatin"
         ],
         "yaxis": "y4"
        },
        {
         "alignmentgroup": "True",
         "customdata": [
          [
           74,
           1.048675076846692e-53
          ],
          [
           16,
           1.491042795194855e-19
          ],
          [
           13,
           2.894956499619615e-18
          ],
          [
           11,
           4.1917919309862494e-11
          ],
          [
           6,
           9.58101390153333e-9
          ],
          [
           2,
           9.385227928206808e-8
          ],
          [
           12,
           1.1100618424459163e-7
          ],
          [
           3,
           0.0000030444330171875384
          ],
          [
           3,
           0.000003916938242841583
          ]
         ],
         "hovertemplate": "GO Namespace=CC<br>gene_set=upreg_wt_top<br>FDR-corrected p-value=%{x}<br>GO Term=%{y}<br>protein_count=%{customdata[0]}<br>p_value=%{customdata[1]}<extra></extra>",
         "legendgroup": "CC",
         "marker": {
          "color": "#636efa",
          "pattern": {
           "shape": ""
          }
         },
         "name": "CC",
         "offsetgroup": "CC",
         "orientation": "h",
         "showlegend": false,
         "textposition": "auto",
         "type": "bar",
         "x": [
          7.718248565591653e-51,
          5.4870374863170663e-17,
          7.102293279066789e-16,
          7.7128971530147e-9,
          0.000001410325246305706,
          0.000011512546258600351,
          0.000011671507372002777,
          0.00028008783758125353,
          0.0003203185051923784
         ],
         "xaxis": "x",
         "y": [
          "nucleus",
          "chromosome",
          "nucleosome",
          "nucleolus",
          "proteasome complex",
          "membrane",
          "cytosol",
          "preribosome, large subunit precursor",
          "cohesin complex"
         ],
         "yaxis": "y"
        },
        {
         "alignmentgroup": "True",
         "customdata": [
          [
           71,
           3.5024991548111763e-48
          ],
          [
           15,
           4.8062812656953084e-26
          ],
          [
           19,
           2.196850227821286e-24
          ],
          [
           14,
           5.757068077615092e-20
          ],
          [
           7,
           1.0775562268390013e-13
          ],
          [
           6,
           1.7834409781786744e-12
          ],
          [
           12,
           2.1848761652460378e-12
          ],
          [
           5,
           2.541595975790805e-11
          ],
          [
           1,
           4.3905111312547555e-9
          ],
          [
           4,
           2.003278295644426e-8
          ]
         ],
         "hovertemplate": "GO Namespace=CC<br>gene_set=upreg_wt_down<br>FDR-corrected p-value=%{x}<br>GO Term=%{y}<br>protein_count=%{customdata[0]}<br>p_value=%{customdata[1]}<extra></extra>",
         "legendgroup": "CC",
         "marker": {
          "color": "#636efa",
          "pattern": {
           "shape": ""
          }
         },
         "name": "CC",
         "offsetgroup": "CC",
         "orientation": "h",
         "showlegend": false,
         "textposition": "auto",
         "type": "bar",
         "x": [
          2.5778393779410258e-45,
          1.7687115057758736e-23,
          5.389605892254889e-22,
          1.059300526281177e-17,
          1.58616276590701e-11,
          2.187687599899174e-10,
          2.2972412251729766e-10,
          2.3382682977275408e-9,
          3.590462436226111e-7,
          0.0000014744128255942976
         ],
         "xaxis": "x2",
         "y": [
          "nucleus",
          "proteasome complex",
          "chromosome",
          "nucleosome",
          "proteasome core complex",
          "proteasome regulatory particle, base subcomplex",
          "nucleolus",
          "proteasome core complex, alpha-subunit complex",
          "membrane",
          "preribosome, large subunit precursor"
         ],
         "yaxis": "y2"
        },
        {
         "alignmentgroup": "True",
         "customdata": [
          [
           34,
           4.8974175222753116e-21
          ],
          [
           25,
           3.31431825880489e-15
          ],
          [
           11,
           2.235078213411073e-9
          ],
          [
           7,
           2.6661876563985242e-8
          ],
          [
           16,
           9.531720753007588e-8
          ],
          [
           6,
           5.888164910239926e-7
          ],
          [
           6,
           0.000006063854323255891
          ],
          [
           3,
           0.000007166874312147465
          ]
         ],
         "hovertemplate": "GO Namespace=MF<br>gene_set=upreg_mt_top<br>FDR-corrected p-value=%{x}<br>GO Term=%{y}<br>protein_count=%{customdata[0]}<br>p_value=%{customdata[1]}<extra></extra>",
         "legendgroup": "MF",
         "marker": {
          "color": "#EF553B",
          "pattern": {
           "shape": ""
          }
         },
         "name": "MF",
         "offsetgroup": "MF",
         "orientation": "h",
         "showlegend": true,
         "textposition": "auto",
         "type": "bar",
         "x": [
          1.2581465614725277e-17,
          4.257241803434881e-12,
          0.0000019139719767510156,
          0.000017123590223219523,
          0.00004897398122895299,
          0.0002521115942401062,
          0.0022254345366349124,
          0.002301462513488355
         ],
         "xaxis": "x3",
         "y": [
          "RNA binding",
          "nucleic acid binding",
          "mRNA binding",
          "structural constituent of chromatin",
          "structural constituent of ribosome",
          "RNA helicase activity",
          "protein heterodimerization activity",
          "poly(A) binding"
         ],
         "yaxis": "y3"
        },
        {
         "alignmentgroup": "True",
         "customdata": [
          [
           8,
           4.564685612459088e-19
          ],
          [
           10,
           7.49989398795693e-13
          ],
          [
           11,
           8.296605254643603e-13
          ],
          [
           29,
           3.062980153404873e-11
          ],
          [
           7,
           3.5555839715710476e-7
          ]
         ],
         "hovertemplate": "GO Namespace=MF<br>gene_set=upreg_mt_down<br>FDR-corrected p-value=%{x}<br>GO Term=%{y}<br>protein_count=%{customdata[0]}<br>p_value=%{customdata[1]}<extra></extra>",
         "legendgroup": "MF",
         "marker": {
          "color": "#EF553B",
          "pattern": {
           "shape": ""
          }
         },
         "name": "MF",
         "offsetgroup": "MF",
         "orientation": "h",
         "showlegend": false,
         "textposition": "auto",
         "type": "bar",
         "x": [
          1.17266773384074e-15,
          7.104659633059805e-10,
          7.104659633059805e-10,
          1.96719900352428e-8,
          0.00018268590445932043
         ],
         "xaxis": "x4",
         "y": [
          "nucleosomal DNA binding",
          "structural constituent of chromatin",
          "double-stranded DNA binding",
          "DNA binding",
          "protein heterodimerization activity"
         ],
         "yaxis": "y4"
        },
        {
         "alignmentgroup": "True",
         "customdata": [
          [
           11,
           2.484904237726402e-15
          ],
          [
           8,
           4.502480554258459e-9
          ],
          [
           4,
           3.6293547143562265e-9
          ],
          [
           21,
           2.5574887135624266e-7
          ]
         ],
         "hovertemplate": "GO Namespace=MF<br>gene_set=upreg_wt_top<br>FDR-corrected p-value=%{x}<br>GO Term=%{y}<br>protein_count=%{customdata[0]}<br>p_value=%{customdata[1]}<extra></extra>",
         "legendgroup": "MF",
         "marker": {
          "color": "#EF553B",
          "pattern": {
           "shape": ""
          }
         },
         "name": "MF",
         "offsetgroup": "MF",
         "orientation": "h",
         "showlegend": false,
         "textposition": "auto",
         "type": "bar",
         "x": [
          6.383718986719128e-12,
          0.00000385562418129666,
          0.00000385562418129666,
          0.00016425471262854685
         ],
         "xaxis": "x",
         "y": [
          "structural constituent of chromatin",
          "protein heterodimerization activity",
          "nucleosomal DNA binding",
          "DNA binding"
         ],
         "yaxis": "y"
        },
        {
         "alignmentgroup": "True",
         "customdata": [
          [
           14,
           1.3014970629179026e-20
          ],
          [
           14,
           2.717050743981573e-18
          ],
          [
           5,
           4.466478973368225e-12
          ],
          [
           24,
           2.6958688089027995e-9
          ]
         ],
         "hovertemplate": "GO Namespace=MF<br>gene_set=upreg_wt_down<br>FDR-corrected p-value=%{x}<br>GO Term=%{y}<br>protein_count=%{customdata[0]}<br>p_value=%{customdata[1]}<extra></extra>",
         "legendgroup": "MF",
         "marker": {
          "color": "#EF553B",
          "pattern": {
           "shape": ""
          }
         },
         "name": "MF",
         "offsetgroup": "MF",
         "orientation": "h",
         "showlegend": false,
         "textposition": "auto",
         "type": "bar",
         "x": [
          3.343545954636092e-17,
          3.4900516806443306e-15,
          3.824794827527656e-9,
          0.0000017314217425178232
         ],
         "xaxis": "x2",
         "y": [
          "structural constituent of chromatin",
          "protein heterodimerization activity",
          "proteasome-activating activity",
          "DNA binding"
         ],
         "yaxis": "y2"
        },
        {
         "alignmentgroup": "True",
         "customdata": [
          [
           16,
           1.4078276124099843e-9
          ],
          [
           6,
           5.245465174963836e-8
          ],
          [
           5,
           1.3873656227301622e-7
          ]
         ],
         "hovertemplate": "GO Namespace=BP<br>gene_set=upreg_mt_top<br>FDR-corrected p-value=%{x}<br>GO Term=%{y}<br>protein_count=%{customdata[0]}<br>p_value=%{customdata[1]}<extra></extra>",
         "legendgroup": "BP",
         "marker": {
          "color": "#00cc96",
          "pattern": {
           "shape": ""
          }
         },
         "name": "BP",
         "offsetgroup": "BP",
         "orientation": "h",
         "showlegend": true,
         "textposition": "auto",
         "type": "bar",
         "x": [
          0.0000036195247915060696,
          0.00006743045482416012,
          0.00011889723386797491
         ],
         "xaxis": "x3",
         "y": [
          "translation",
          "ribosome biogenesis",
          "protein import into nucleus"
         ],
         "yaxis": "y3"
        },
        {
         "alignmentgroup": "True",
         "customdata": [
          [
           8,
           5.8785589582325095e-18
          ],
          [
           10,
           2.1580152484641742e-17
          ],
          [
           8,
           1.0076653301583766e-15
          ],
          [
           7,
           4.2354776121672845e-7
          ],
          [
           6,
           7.387279629179135e-7
          ],
          [
           5,
           0.0000015011735610465362
          ],
          [
           2,
           0.000002181317387911714
          ]
         ],
         "hovertemplate": "GO Namespace=BP<br>gene_set=upreg_mt_down<br>FDR-corrected p-value=%{x}<br>GO Term=%{y}<br>protein_count=%{customdata[0]}<br>p_value=%{customdata[1]}<extra></extra>",
         "legendgroup": "BP",
         "marker": {
          "color": "#00cc96",
          "pattern": {
           "shape": ""
          }
         },
         "name": "BP",
         "offsetgroup": "BP",
         "orientation": "h",
         "showlegend": false,
         "textposition": "auto",
         "type": "bar",
         "x": [
          1.5113775081615783e-14,
          2.774128601900696e-14,
          8.635691879457288e-13,
          0.0002722353235220522,
          0.00037985391853239114,
          0.0006432528709084408,
          0.0008011667149030024
         ],
         "xaxis": "x4",
         "y": [
          "negative regulation of DNA recombination",
          "nucleosome assembly",
          "chromosome condensation",
          "chromatin remodeling",
          "chromatin organization",
          "regulation of gene expression",
          "negative regulation of translational frameshifting"
         ],
         "yaxis": "y4"
        },
        {
         "alignmentgroup": "True",
         "customdata": [
          [
           7,
           3.6531744573117987e-10
          ],
          [
           7,
           3.907746142659946e-10
          ],
          [
           6,
           4.807923687091081e-10
          ],
          [
           4,
           1.2347379908865614e-8
          ],
          [
           5,
           1.4442880994298177e-8
          ],
          [
           4,
           1.5060349147988342e-7
          ],
          [
           6,
           9.260579320615403e-7
          ]
         ],
         "hovertemplate": "GO Namespace=BP<br>gene_set=upreg_wt_top<br>FDR-corrected p-value=%{x}<br>GO Term=%{y}<br>protein_count=%{customdata[0]}<br>p_value=%{customdata[1]}<extra></extra>",
         "legendgroup": "BP",
         "marker": {
          "color": "#00cc96",
          "pattern": {
           "shape": ""
          }
         },
         "name": "BP",
         "offsetgroup": "BP",
         "orientation": "h",
         "showlegend": false,
         "textposition": "auto",
         "type": "bar",
         "x": [
          4.120390599837057e-7,
          4.120390599837057e-7,
          4.120390599837057e-7,
          0.000007426529407268123,
          0.000007426529407268123,
          0.00006453359609913005,
          0.00034012784904717433
         ],
         "xaxis": "x",
         "y": [
          "proteasome-mediated ubiquitin-dependent protein catabolic process",
          "ribosome biogenesis",
          "nucleosome assembly",
          "negative regulation of DNA recombination",
          "heterochromatin formation",
          "chromosome condensation",
          "cell division"
         ],
         "yaxis": "y"
        },
        {
         "alignmentgroup": "True",
         "customdata": [
          [
           14,
           2.496180142678201e-23
          ],
          [
           5,
           4.466478973368225e-12
          ],
          [
           7,
           2.631094371054219e-9
          ],
          [
           5,
           1.533464518534373e-8
          ],
          [
           4,
           1.874237656604282e-7
          ],
          [
           7,
           2.332782863989329e-7
          ]
         ],
         "hovertemplate": "GO Namespace=BP<br>gene_set=upreg_wt_down<br>FDR-corrected p-value=%{x}<br>GO Term=%{y}<br>protein_count=%{customdata[0]}<br>p_value=%{customdata[1]}<extra></extra>",
         "legendgroup": "BP",
         "marker": {
          "color": "#00cc96",
          "pattern": {
           "shape": ""
          }
         },
         "name": "BP",
         "offsetgroup": "BP",
         "orientation": "h",
         "showlegend": false,
         "textposition": "auto",
         "type": "bar",
         "x": [
          6.417679146825655e-20,
          5.741658720264853e-9,
          0.000002254847875993466,
          0.000009856343192879682,
          0.00009637330030259218,
          0.00009995974572194276
         ],
         "xaxis": "x2",
         "y": [
          "proteasome-mediated ubiquitin-dependent protein catabolic process",
          "positive regulation of proteasomal protein catabolic process",
          "proteolysis involved in protein catabolic process",
          "heterochromatin formation",
          "ribosomal large subunit biogenesis",
          "ubiquitin-dependent protein catabolic process"
         ],
         "yaxis": "y2"
        }
       ],
       "layout": {
        "annotations": [
         {
          "font": {},
          "showarrow": false,
          "text": "gene_set=upreg_wt_top",
          "x": 0.245,
          "xanchor": "center",
          "xref": "paper",
          "y": 0.46499999999999997,
          "yanchor": "bottom",
          "yref": "paper"
         },
         {
          "font": {},
          "showarrow": false,
          "text": "gene_set=upreg_wt_down",
          "x": 0.755,
          "xanchor": "center",
          "xref": "paper",
          "y": 0.46499999999999997,
          "yanchor": "bottom",
          "yref": "paper"
         },
         {
          "font": {},
          "showarrow": false,
          "text": "gene_set=upreg_mt_top",
          "x": 0.245,
          "xanchor": "center",
          "xref": "paper",
          "y": 0.9999999999999999,
          "yanchor": "bottom",
          "yref": "paper"
         },
         {
          "font": {},
          "showarrow": false,
          "text": "gene_set=upreg_mt_down",
          "x": 0.755,
          "xanchor": "center",
          "xref": "paper",
          "y": 0.9999999999999999,
          "yanchor": "bottom",
          "yref": "paper"
         }
        ],
        "barmode": "relative",
        "height": 2000,
        "legend": {
         "orientation": "h",
         "title": {
          "text": "GO Namespace"
         },
         "tracegroupgap": 0,
         "x": 1,
         "xanchor": "right",
         "y": 1.02,
         "yanchor": "bottom"
        },
        "margin": {
         "t": 60
        },
        "template": {
         "data": {
          "bar": [
           {
            "error_x": {
             "color": "#2a3f5f"
            },
            "error_y": {
             "color": "#2a3f5f"
            },
            "marker": {
             "line": {
              "color": "#E5ECF6",
              "width": 0.5
             },
             "pattern": {
              "fillmode": "overlay",
              "size": 10,
              "solidity": 0.2
             }
            },
            "type": "bar"
           }
          ],
          "barpolar": [
           {
            "marker": {
             "line": {
              "color": "#E5ECF6",
              "width": 0.5
             },
             "pattern": {
              "fillmode": "overlay",
              "size": 10,
              "solidity": 0.2
             }
            },
            "type": "barpolar"
           }
          ],
          "carpet": [
           {
            "aaxis": {
             "endlinecolor": "#2a3f5f",
             "gridcolor": "white",
             "linecolor": "white",
             "minorgridcolor": "white",
             "startlinecolor": "#2a3f5f"
            },
            "baxis": {
             "endlinecolor": "#2a3f5f",
             "gridcolor": "white",
             "linecolor": "white",
             "minorgridcolor": "white",
             "startlinecolor": "#2a3f5f"
            },
            "type": "carpet"
           }
          ],
          "choropleth": [
           {
            "colorbar": {
             "outlinewidth": 0,
             "ticks": ""
            },
            "type": "choropleth"
           }
          ],
          "contour": [
           {
            "colorbar": {
             "outlinewidth": 0,
             "ticks": ""
            },
            "colorscale": [
             [
              0,
              "#0d0887"
             ],
             [
              0.1111111111111111,
              "#46039f"
             ],
             [
              0.2222222222222222,
              "#7201a8"
             ],
             [
              0.3333333333333333,
              "#9c179e"
             ],
             [
              0.4444444444444444,
              "#bd3786"
             ],
             [
              0.5555555555555556,
              "#d8576b"
             ],
             [
              0.6666666666666666,
              "#ed7953"
             ],
             [
              0.7777777777777778,
              "#fb9f3a"
             ],
             [
              0.8888888888888888,
              "#fdca26"
             ],
             [
              1,
              "#f0f921"
             ]
            ],
            "type": "contour"
           }
          ],
          "contourcarpet": [
           {
            "colorbar": {
             "outlinewidth": 0,
             "ticks": ""
            },
            "type": "contourcarpet"
           }
          ],
          "heatmap": [
           {
            "colorbar": {
             "outlinewidth": 0,
             "ticks": ""
            },
            "colorscale": [
             [
              0,
              "#0d0887"
             ],
             [
              0.1111111111111111,
              "#46039f"
             ],
             [
              0.2222222222222222,
              "#7201a8"
             ],
             [
              0.3333333333333333,
              "#9c179e"
             ],
             [
              0.4444444444444444,
              "#bd3786"
             ],
             [
              0.5555555555555556,
              "#d8576b"
             ],
             [
              0.6666666666666666,
              "#ed7953"
             ],
             [
              0.7777777777777778,
              "#fb9f3a"
             ],
             [
              0.8888888888888888,
              "#fdca26"
             ],
             [
              1,
              "#f0f921"
             ]
            ],
            "type": "heatmap"
           }
          ],
          "heatmapgl": [
           {
            "colorbar": {
             "outlinewidth": 0,
             "ticks": ""
            },
            "colorscale": [
             [
              0,
              "#0d0887"
             ],
             [
              0.1111111111111111,
              "#46039f"
             ],
             [
              0.2222222222222222,
              "#7201a8"
             ],
             [
              0.3333333333333333,
              "#9c179e"
             ],
             [
              0.4444444444444444,
              "#bd3786"
             ],
             [
              0.5555555555555556,
              "#d8576b"
             ],
             [
              0.6666666666666666,
              "#ed7953"
             ],
             [
              0.7777777777777778,
              "#fb9f3a"
             ],
             [
              0.8888888888888888,
              "#fdca26"
             ],
             [
              1,
              "#f0f921"
             ]
            ],
            "type": "heatmapgl"
           }
          ],
          "histogram": [
           {
            "marker": {
             "pattern": {
              "fillmode": "overlay",
              "size": 10,
              "solidity": 0.2
             }
            },
            "type": "histogram"
           }
          ],
          "histogram2d": [
           {
            "colorbar": {
             "outlinewidth": 0,
             "ticks": ""
            },
            "colorscale": [
             [
              0,
              "#0d0887"
             ],
             [
              0.1111111111111111,
              "#46039f"
             ],
             [
              0.2222222222222222,
              "#7201a8"
             ],
             [
              0.3333333333333333,
              "#9c179e"
             ],
             [
              0.4444444444444444,
              "#bd3786"
             ],
             [
              0.5555555555555556,
              "#d8576b"
             ],
             [
              0.6666666666666666,
              "#ed7953"
             ],
             [
              0.7777777777777778,
              "#fb9f3a"
             ],
             [
              0.8888888888888888,
              "#fdca26"
             ],
             [
              1,
              "#f0f921"
             ]
            ],
            "type": "histogram2d"
           }
          ],
          "histogram2dcontour": [
           {
            "colorbar": {
             "outlinewidth": 0,
             "ticks": ""
            },
            "colorscale": [
             [
              0,
              "#0d0887"
             ],
             [
              0.1111111111111111,
              "#46039f"
             ],
             [
              0.2222222222222222,
              "#7201a8"
             ],
             [
              0.3333333333333333,
              "#9c179e"
             ],
             [
              0.4444444444444444,
              "#bd3786"
             ],
             [
              0.5555555555555556,
              "#d8576b"
             ],
             [
              0.6666666666666666,
              "#ed7953"
             ],
             [
              0.7777777777777778,
              "#fb9f3a"
             ],
             [
              0.8888888888888888,
              "#fdca26"
             ],
             [
              1,
              "#f0f921"
             ]
            ],
            "type": "histogram2dcontour"
           }
          ],
          "mesh3d": [
           {
            "colorbar": {
             "outlinewidth": 0,
             "ticks": ""
            },
            "type": "mesh3d"
           }
          ],
          "parcoords": [
           {
            "line": {
             "colorbar": {
              "outlinewidth": 0,
              "ticks": ""
             }
            },
            "type": "parcoords"
           }
          ],
          "pie": [
           {
            "automargin": true,
            "type": "pie"
           }
          ],
          "scatter": [
           {
            "fillpattern": {
             "fillmode": "overlay",
             "size": 10,
             "solidity": 0.2
            },
            "type": "scatter"
           }
          ],
          "scatter3d": [
           {
            "line": {
             "colorbar": {
              "outlinewidth": 0,
              "ticks": ""
             }
            },
            "marker": {
             "colorbar": {
              "outlinewidth": 0,
              "ticks": ""
             }
            },
            "type": "scatter3d"
           }
          ],
          "scattercarpet": [
           {
            "marker": {
             "colorbar": {
              "outlinewidth": 0,
              "ticks": ""
             }
            },
            "type": "scattercarpet"
           }
          ],
          "scattergeo": [
           {
            "marker": {
             "colorbar": {
              "outlinewidth": 0,
              "ticks": ""
             }
            },
            "type": "scattergeo"
           }
          ],
          "scattergl": [
           {
            "marker": {
             "colorbar": {
              "outlinewidth": 0,
              "ticks": ""
             }
            },
            "type": "scattergl"
           }
          ],
          "scattermapbox": [
           {
            "marker": {
             "colorbar": {
              "outlinewidth": 0,
              "ticks": ""
             }
            },
            "type": "scattermapbox"
           }
          ],
          "scatterpolar": [
           {
            "marker": {
             "colorbar": {
              "outlinewidth": 0,
              "ticks": ""
             }
            },
            "type": "scatterpolar"
           }
          ],
          "scatterpolargl": [
           {
            "marker": {
             "colorbar": {
              "outlinewidth": 0,
              "ticks": ""
             }
            },
            "type": "scatterpolargl"
           }
          ],
          "scatterternary": [
           {
            "marker": {
             "colorbar": {
              "outlinewidth": 0,
              "ticks": ""
             }
            },
            "type": "scatterternary"
           }
          ],
          "surface": [
           {
            "colorbar": {
             "outlinewidth": 0,
             "ticks": ""
            },
            "colorscale": [
             [
              0,
              "#0d0887"
             ],
             [
              0.1111111111111111,
              "#46039f"
             ],
             [
              0.2222222222222222,
              "#7201a8"
             ],
             [
              0.3333333333333333,
              "#9c179e"
             ],
             [
              0.4444444444444444,
              "#bd3786"
             ],
             [
              0.5555555555555556,
              "#d8576b"
             ],
             [
              0.6666666666666666,
              "#ed7953"
             ],
             [
              0.7777777777777778,
              "#fb9f3a"
             ],
             [
              0.8888888888888888,
              "#fdca26"
             ],
             [
              1,
              "#f0f921"
             ]
            ],
            "type": "surface"
           }
          ],
          "table": [
           {
            "cells": {
             "fill": {
              "color": "#EBF0F8"
             },
             "line": {
              "color": "white"
             }
            },
            "header": {
             "fill": {
              "color": "#C8D4E3"
             },
             "line": {
              "color": "white"
             }
            },
            "type": "table"
           }
          ]
         },
         "layout": {
          "annotationdefaults": {
           "arrowcolor": "#2a3f5f",
           "arrowhead": 0,
           "arrowwidth": 1
          },
          "autotypenumbers": "strict",
          "coloraxis": {
           "colorbar": {
            "outlinewidth": 0,
            "ticks": ""
           }
          },
          "colorscale": {
           "diverging": [
            [
             0,
             "#8e0152"
            ],
            [
             0.1,
             "#c51b7d"
            ],
            [
             0.2,
             "#de77ae"
            ],
            [
             0.3,
             "#f1b6da"
            ],
            [
             0.4,
             "#fde0ef"
            ],
            [
             0.5,
             "#f7f7f7"
            ],
            [
             0.6,
             "#e6f5d0"
            ],
            [
             0.7,
             "#b8e186"
            ],
            [
             0.8,
             "#7fbc41"
            ],
            [
             0.9,
             "#4d9221"
            ],
            [
             1,
             "#276419"
            ]
           ],
           "sequential": [
            [
             0,
             "#0d0887"
            ],
            [
             0.1111111111111111,
             "#46039f"
            ],
            [
             0.2222222222222222,
             "#7201a8"
            ],
            [
             0.3333333333333333,
             "#9c179e"
            ],
            [
             0.4444444444444444,
             "#bd3786"
            ],
            [
             0.5555555555555556,
             "#d8576b"
            ],
            [
             0.6666666666666666,
             "#ed7953"
            ],
            [
             0.7777777777777778,
             "#fb9f3a"
            ],
            [
             0.8888888888888888,
             "#fdca26"
            ],
            [
             1,
             "#f0f921"
            ]
           ],
           "sequentialminus": [
            [
             0,
             "#0d0887"
            ],
            [
             0.1111111111111111,
             "#46039f"
            ],
            [
             0.2222222222222222,
             "#7201a8"
            ],
            [
             0.3333333333333333,
             "#9c179e"
            ],
            [
             0.4444444444444444,
             "#bd3786"
            ],
            [
             0.5555555555555556,
             "#d8576b"
            ],
            [
             0.6666666666666666,
             "#ed7953"
            ],
            [
             0.7777777777777778,
             "#fb9f3a"
            ],
            [
             0.8888888888888888,
             "#fdca26"
            ],
            [
             1,
             "#f0f921"
            ]
           ]
          },
          "colorway": [
           "#636efa",
           "#EF553B",
           "#00cc96",
           "#ab63fa",
           "#FFA15A",
           "#19d3f3",
           "#FF6692",
           "#B6E880",
           "#FF97FF",
           "#FECB52"
          ],
          "font": {
           "color": "#2a3f5f"
          },
          "geo": {
           "bgcolor": "white",
           "lakecolor": "white",
           "landcolor": "#E5ECF6",
           "showlakes": true,
           "showland": true,
           "subunitcolor": "white"
          },
          "hoverlabel": {
           "align": "left"
          },
          "hovermode": "closest",
          "mapbox": {
           "style": "light"
          },
          "paper_bgcolor": "white",
          "plot_bgcolor": "#E5ECF6",
          "polar": {
           "angularaxis": {
            "gridcolor": "white",
            "linecolor": "white",
            "ticks": ""
           },
           "bgcolor": "#E5ECF6",
           "radialaxis": {
            "gridcolor": "white",
            "linecolor": "white",
            "ticks": ""
           }
          },
          "scene": {
           "xaxis": {
            "backgroundcolor": "#E5ECF6",
            "gridcolor": "white",
            "gridwidth": 2,
            "linecolor": "white",
            "showbackground": true,
            "ticks": "",
            "zerolinecolor": "white"
           },
           "yaxis": {
            "backgroundcolor": "#E5ECF6",
            "gridcolor": "white",
            "gridwidth": 2,
            "linecolor": "white",
            "showbackground": true,
            "ticks": "",
            "zerolinecolor": "white"
           },
           "zaxis": {
            "backgroundcolor": "#E5ECF6",
            "gridcolor": "white",
            "gridwidth": 2,
            "linecolor": "white",
            "showbackground": true,
            "ticks": "",
            "zerolinecolor": "white"
           }
          },
          "shapedefaults": {
           "line": {
            "color": "#2a3f5f"
           }
          },
          "ternary": {
           "aaxis": {
            "gridcolor": "white",
            "linecolor": "white",
            "ticks": ""
           },
           "baxis": {
            "gridcolor": "white",
            "linecolor": "white",
            "ticks": ""
           },
           "bgcolor": "#E5ECF6",
           "caxis": {
            "gridcolor": "white",
            "linecolor": "white",
            "ticks": ""
           }
          },
          "title": {
           "x": 0.05
          },
          "xaxis": {
           "automargin": true,
           "gridcolor": "white",
           "linecolor": "white",
           "ticks": "",
           "title": {
            "standoff": 15
           },
           "zerolinecolor": "white",
           "zerolinewidth": 2
          },
          "yaxis": {
           "automargin": true,
           "gridcolor": "white",
           "linecolor": "white",
           "ticks": "",
           "title": {
            "standoff": 15
           },
           "zerolinecolor": "white",
           "zerolinewidth": 2
          }
         }
        },
        "xaxis": {
         "anchor": "y",
         "domain": [
          0,
          0.49
         ],
         "title": {
          "text": "FDR-corrected p-value"
         }
        },
        "xaxis2": {
         "anchor": "y2",
         "domain": [
          0.51,
          1
         ],
         "matches": "x",
         "title": {
          "text": "FDR-corrected p-value"
         }
        },
        "xaxis3": {
         "anchor": "y3",
         "domain": [
          0,
          0.49
         ],
         "matches": "x",
         "showticklabels": false
        },
        "xaxis4": {
         "anchor": "y4",
         "domain": [
          0.51,
          1
         ],
         "matches": "x",
         "showticklabels": false
        },
        "yaxis": {
         "anchor": "x",
         "categoryorder": "total ascending",
         "domain": [
          0,
          0.46499999999999997
         ],
         "title": {
          "text": "GO Term"
         }
        },
        "yaxis2": {
         "anchor": "x2",
         "categoryorder": "total ascending",
         "domain": [
          0,
          0.46499999999999997
         ],
         "matches": "y",
         "showticklabels": false
        },
        "yaxis3": {
         "anchor": "x3",
         "categoryorder": "total ascending",
         "domain": [
          0.5349999999999999,
          0.9999999999999999
         ],
         "matches": "y",
         "title": {
          "text": "GO Term"
         }
        },
        "yaxis4": {
         "anchor": "x4",
         "categoryorder": "total ascending",
         "domain": [
          0.5349999999999999,
          0.9999999999999999
         ],
         "matches": "y",
         "showticklabels": false
        }
       }
      }
     },
     "metadata": {},
     "output_type": "display_data"
    }
   ],
   "source": [
    "import plotly.express as px\n",
    "\n",
    "top_results = pd.concat([\n",
    "    get_top_terms(gene_list)\n",
    "])\n",
    "\n",
    "fig = px.bar(\n",
    "    top_results,\n",
    "    x='p_fdr_bh',\n",
    "    y='GO_term',\n",
    "    color='namespace',\n",
    "    facet_col='gene_set',\n",
    "    facet_col_wrap=2,\n",
    "    height=2000,\n",
    "    labels={'p_fdr_bh': 'FDR-corrected p-value', 'GO_term': 'GO Term', 'namespace': 'GO Namespace'},\n",
    "    hover_data=['protein_count', 'p_value']\n",
    ")\n",
    "\n",
    "fig.update_yaxes(categoryorder='total ascending')\n",
    "fig.update_layout(legend=dict(orientation=\"h\", yanchor=\"bottom\", y=1.02, xanchor=\"right\", x=1))\n",
    "\n",
    "fig.show()\n"
   ]
  }
 ],
 "metadata": {
  "kernelspec": {
   "display_name": "Python 3",
   "language": "python",
   "name": "python3"
  },
  "language_info": {
   "codemirror_mode": {
    "name": "ipython",
    "version": 3
   },
   "file_extension": ".py",
   "mimetype": "text/x-python",
   "name": "python",
   "nbconvert_exporter": "python",
   "pygments_lexer": "ipython3",
   "version": "3.12.0"
  }
 },
 "nbformat": 4,
 "nbformat_minor": 2
}
