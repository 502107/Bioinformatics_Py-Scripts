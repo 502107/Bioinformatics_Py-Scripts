{
 "cells": [
  {
   "cell_type": "code",
   "execution_count": 1,
   "id": "3ecf2e8d",
   "metadata": {},
   "outputs": [],
   "source": [
    "from Bio.PDB import MMCIFParser,PDBIO\n",
    "from pathlib import Path"
   ]
  },
  {
   "cell_type": "code",
   "execution_count": 2,
   "id": "0dd4ad44",
   "metadata": {},
   "outputs": [],
   "source": [
    "parser = MMCIFParser()\n",
    "io = PDBIO()\n",
    "\n",
    "def cif_to_pdb(directory):\n",
    "    for file in directory.glob(\"*.cif\"):\n",
    "        model_number = file.stem.split(\"_\")[-1]\n",
    "        cif = file.stem.split(\"_\")[-3]\n",
    "        structure = parser.get_structure(model_number, file)\n",
    "        io.set_structure(structure)\n",
    "        output_file = cif+\"_model\"+model_number+\".pdb\"\n",
    "        io.save(output_file)"
   ]
  },
  {
   "cell_type": "code",
   "execution_count": null,
   "id": "816db404",
   "metadata": {},
   "outputs": [
    {
     "name": "stdout",
     "output_type": "stream",
     "text": [
      "Converted files in ../fold_2025_06_12_13_13_mf444991_cidb\n",
      "Converted files in ../fold_2025_06_12_13_12_mf444974_cida\n"
     ]
    }
   ],
   "source": [
    "for directory in Path(\"../\").iterdir():\n",
    "    if directory.is_dir() and (\"cid\" in directory.name or \"cif\" in directory.name):\n",
    "        cif_to_pdb(directory)\n",
    "        print(f\"Converted files in {directory}\")"
   ]
  },
  {
   "cell_type": "code",
   "execution_count": null,
   "id": "926afec6",
   "metadata": {},
   "outputs": [
    {
     "name": "stdout",
     "output_type": "stream",
     "text": [
      "cifA\n",
      "alpha(%): 66.12\n",
      "beta(%): 1.22\n",
      "other(%): 32.65\n",
      "cidB\n",
      "alpha(%): 37.18\n",
      "beta(%): 21.56\n",
      "other(%): 41.26\n",
      "cifB\n",
      "alpha(%): 34.63\n",
      "beta(%): 26.29\n",
      "other(%): 39.08\n",
      "cidA\n",
      "alpha(%): 58.57\n",
      "beta(%): 2.45\n",
      "other(%): 38.98\n"
     ]
    }
   ],
   "source": [
    "from Bio.PDB import PDBParser\n",
    "from Bio.PDB.DSSP import DSSP\n",
    "import os\n",
    "\n",
    "p = PDBParser()\n",
    "\n",
    "alpha_codes = {'H', 'G', 'I'}  # alpha-helix, 3-10 helix, pi-helix\n",
    "beta_codes = {'E', 'B'}        # beta-sheet, beta-bridge\n",
    "\n",
    "for dir in os.listdir(\".\"):\n",
    "    if not os.path.isdir(dir):\n",
    "        continue\n",
    "\n",
    "    total_alpha = 0\n",
    "    total_beta = 0\n",
    "    total_other = 0\n",
    "    total_residues = 0\n",
    "    protein_count = 0\n",
    "    num = dir.split(\"-\")[0]\n",
    "    protein = dir.split(\"-\")[1]\n",
    "    pdb_path = f\"{num}-{protein}/{protein.lower()}_model0.pdb\"\n",
    "    if not os.path.exists(pdb_path):\n",
    "        continue\n",
    "    structure = p.get_structure(protein, pdb_path)\n",
    "    model = structure[0]\n",
    "    dssp = DSSP(model, pdb_path, dssp=\"mkdssp\")\n",
    "    alpha = beta = other = 0\n",
    "    for key in dssp.keys():\n",
    "        ss = dssp[key][2]\n",
    "        if ss in alpha_codes:\n",
    "            alpha += 1\n",
    "        elif ss in beta_codes:\n",
    "            beta += 1\n",
    "        else:\n",
    "            other += 1\n",
    "    n = alpha + beta + other\n",
    "    if n == 0:\n",
    "        continue\n",
    "    total_alpha += alpha\n",
    "    total_beta += beta\n",
    "    total_other += other\n",
    "    total_residues += n\n",
    "    protein_count += 1\n",
    "\n",
    "    if total_residues > 0:\n",
    "        print(protein)\n",
    "        print(f\"alpha(%): {100 * total_alpha / total_residues:.2f}\")\n",
    "        print(f\"beta(%): {100 * total_beta / total_residues:.2f}\")\n",
    "        print(f\"other(%): {100 * total_other / total_residues:.2f}\")\n"
   ]
  }
 ],
 "metadata": {
  "kernelspec": {
   "display_name": "Python 3",
   "language": "python",
   "name": "python3"
  },
  "language_info": {
   "codemirror_mode": {
    "name": "ipython",
    "version": 3
   },
   "file_extension": ".py",
   "mimetype": "text/x-python",
   "name": "python",
   "nbconvert_exporter": "python",
   "pygments_lexer": "ipython3",
   "version": "3.11.5"
  }
 },
 "nbformat": 4,
 "nbformat_minor": 5
}
